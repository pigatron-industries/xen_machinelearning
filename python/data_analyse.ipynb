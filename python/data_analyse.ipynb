{
 "cells": [
  {
   "cell_type": "markdown",
   "metadata": {},
   "source": [
    "Load scores"
   ]
  },
  {
   "cell_type": "code",
   "execution_count": 1,
   "metadata": {},
   "outputs": [
    {
     "name": "stdout",
     "output_type": "stream",
     "text": [
      "Loading 385 files\n"
     ]
    },
    {
     "name": "stderr",
     "output_type": "stream",
     "text": [
      "/usr/local/lib/python3.9/site-packages/music21/midi/translate.py:883: TranslateWarning: Unable to determine instrument from <music21.midi.MidiEvent SEQUENCE_TRACK_NAME, track=0, channel=None, data=b'\\xfe\\xff\\x00S\\x00i\\x00x\\x00 \\x00P\\x00e\\x00t\\x00i\\x00t\\x00e\\x00s\\x00 \\x00P\\x00i\\x00\\xe8\\x00c\\x00e\\x00s'>; getting generic Instrument\n",
      "  warnings.warn(\n"
     ]
    },
    {
     "name": "stdout",
     "output_type": "stream",
     "text": [
      "Loaded 385 songs\n"
     ]
    }
   ],
   "source": [
    "import os\n",
    "import numpy as np\n",
    "from music21 import converter, pitch, interval, instrument, note, stream, meter\n",
    "from matplotlib import pyplot as plt\n",
    "\n",
    "from xen.visualise import plotPart\n",
    "from xen.data import SequenceDataSet\n",
    "\n",
    "data_dir = \"../data/mutopia_guitar\"\n",
    "\n",
    "dataset = SequenceDataSet()\n",
    "dataset.loadMidiDir(data_dir)\n",
    "\n",
    "print(f'Loaded {len(dataset.songs)} songs') "
   ]
  },
  {
   "cell_type": "markdown",
   "metadata": {},
   "source": [
    "## Filter"
   ]
  },
  {
   "cell_type": "code",
   "execution_count": 2,
   "metadata": {},
   "outputs": [
    {
     "name": "stdout",
     "output_type": "stream",
     "text": [
      "281 songs after filtering\n"
     ]
    }
   ],
   "source": [
    "dataset.filterTimeSig((4,4))\n",
    "\n",
    "print(f'{len(dataset.songs)} songs after filtering')"
   ]
  },
  {
   "cell_type": "code",
   "execution_count": 13,
   "metadata": {},
   "outputs": [
    {
     "name": "stdout",
     "output_type": "stream",
     "text": [
      "{1: 258, 2: 19, 3: 2, 16: 1, 26: 1}\n",
      "{'Acoustic Guitar': 140, 'Guitar:upperVoice': 32, '\\\\new': 4, 'Sampler': 1, 'up:1': 5, 'dn:2': 3, 'guitar:melody': 2, 'Clarinet': 1, 'up:VA': 1, 'down:': 1, 'acoustic guitar (nylon)': 12, 'Piano': 23, 'guitar': 6, 'upper:1': 1, 'lower:2': 1, 'guitar:melodyVoiceA': 2, 'guitar:': 2, ':upperVoice': 3, ':lowerVoice': 2, ':middleVoice': 2, 'dn:1': 1, 'S:': 16, 'dn:3': 1, 'staffOne': 13, ':uniqueContext1': 1, None: 29, 'one': 1, 'guitar:upperVoice': 1, 'Violin': 1, 'Guitar:lowerVoice': 5, 'flute': 2, ':one': 5, 'up:': 1, 'dn:': 1, 'staffOne:staffOneVoiceOne': 2, 'Guitar:': 8, ':melody': 1, 'Flute': 1, 'upper:': 1, ':bass': 1, ':1': 5, ':2': 1, 'staff:staff first voice': 1, 'GuitarStaff:': 1}\n",
      "[(PosixPath('/Users/rob/workspace/projects/xen_ml/data/mutopia_guitar/guitar-duo-complete.mid'), 26), (PosixPath('/Users/rob/workspace/projects/xen_ml/data/mutopia_guitar/CarcassiMethodPreludes.mid'), 16), (PosixPath('/Users/rob/workspace/projects/xen_ml/data/mutopia_guitar/sorf_op35_no22.mid'), 3), (PosixPath('/Users/rob/workspace/projects/xen_ml/data/mutopia_guitar/claro-de-luna.mid'), 3), (PosixPath('/Users/rob/workspace/projects/xen_ml/data/mutopia_guitar/anna-magdalena-04-guitar-tab.mid'), 2), (PosixPath('/Users/rob/workspace/projects/xen_ml/data/mutopia_guitar/lagrima-duo.mid'), 2), (PosixPath('/Users/rob/workspace/projects/xen_ml/data/mutopia_guitar/pathetique-2-guitar-duo.mid'), 2), (PosixPath('/Users/rob/workspace/projects/xen_ml/data/mutopia_guitar/guitar-duo-varV.mid'), 2), (PosixPath('/Users/rob/workspace/projects/xen_ml/data/mutopia_guitar/wtk1-prelude1-guitar-duo.mid'), 2), (PosixPath('/Users/rob/workspace/projects/xen_ml/data/mutopia_guitar/sym5-1-guitar-duo.mid'), 2), (PosixPath('/Users/rob/workspace/projects/xen_ml/data/mutopia_guitar/two-duo.mid'), 2), (PosixPath('/Users/rob/workspace/projects/xen_ml/data/mutopia_guitar/adelita-duo.mid'), 2), (PosixPath('/Users/rob/workspace/projects/xen_ml/data/mutopia_guitar/greensleeves_guitar.mid'), 2), (PosixPath('/Users/rob/workspace/projects/xen_ml/data/mutopia_guitar/soldiers-joy.mid'), 2), (PosixPath('/Users/rob/workspace/projects/xen_ml/data/mutopia_guitar/brahms-vals9.mid'), 2), (PosixPath('/Users/rob/workspace/projects/xen_ml/data/mutopia_guitar/faure_dolly_berceuse.mid'), 2), (PosixPath('/Users/rob/workspace/projects/xen_ml/data/mutopia_guitar/moonlight-guitar-duo.mid'), 2), (PosixPath('/Users/rob/workspace/projects/xen_ml/data/mutopia_guitar/brahms-vals3.mid'), 2), (PosixPath('/Users/rob/workspace/projects/xen_ml/data/mutopia_guitar/oriental-duo.mid'), 2), (PosixPath('/Users/rob/workspace/projects/xen_ml/data/mutopia_guitar/LullabyBrahms-C.mid'), 2), (PosixPath('/Users/rob/workspace/projects/xen_ml/data/mutopia_guitar/bach_air_bmv_1068.mid'), 2), (PosixPath('/Users/rob/workspace/projects/xen_ml/data/mutopia_guitar/lullaby.mid'), 2), (PosixPath('/Users/rob/workspace/projects/xen_ml/data/mutopia_guitar/carulli-fughetta.mid'), 2), (PosixPath('/Users/rob/workspace/projects/xen_ml/data/mutopia_guitar/Matiegka3.mid'), 1), (PosixPath('/Users/rob/workspace/projects/xen_ml/data/mutopia_guitar/giuliani-op1n10.mid'), 1), (PosixPath('/Users/rob/workspace/projects/xen_ml/data/mutopia_guitar/GiulianiOp100No7.mid'), 1), (PosixPath('/Users/rob/workspace/projects/xen_ml/data/mutopia_guitar/sorf_op35_no19.mid'), 1), (PosixPath('/Users/rob/workspace/projects/xen_ml/data/mutopia_guitar/carcassi-op60-12.mid'), 1), (PosixPath('/Users/rob/workspace/projects/xen_ml/data/mutopia_guitar/sor_op60-12.mid'), 1), (PosixPath('/Users/rob/workspace/projects/xen_ml/data/mutopia_guitar/sor_op60-06.mid'), 1), (PosixPath('/Users/rob/workspace/projects/xen_ml/data/mutopia_guitar/carcassi-op60-06.mid'), 1), (PosixPath('/Users/rob/workspace/projects/xen_ml/data/mutopia_guitar/horetzky11.mid'), 1), (PosixPath('/Users/rob/workspace/projects/xen_ml/data/mutopia_guitar/horetzky39.mid'), 1), (PosixPath('/Users/rob/workspace/projects/xen_ml/data/mutopia_guitar/bwv-1087-03-g.mid'), 1), (PosixPath('/Users/rob/workspace/projects/xen_ml/data/mutopia_guitar/horetzky38.mid'), 1), (PosixPath('/Users/rob/workspace/projects/xen_ml/data/mutopia_guitar/carcassi-op60-07.mid'), 1), (PosixPath('/Users/rob/workspace/projects/xen_ml/data/mutopia_guitar/sor_op60-13.mid'), 1), (PosixPath('/Users/rob/workspace/projects/xen_ml/data/mutopia_guitar/carcassi-op60-13.mid'), 1), (PosixPath('/Users/rob/workspace/projects/xen_ml/data/mutopia_guitar/sorf_op35_no18.mid'), 1), (PosixPath('/Users/rob/workspace/projects/xen_ml/data/mutopia_guitar/sorf_op35_no24.mid'), 1), (PosixPath('/Users/rob/workspace/projects/xen_ml/data/mutopia_guitar/GiulianiOp100No6.mid'), 1), (PosixPath('/Users/rob/workspace/projects/xen_ml/data/mutopia_guitar/twelvetone.mid'), 1), (PosixPath('/Users/rob/workspace/projects/xen_ml/data/mutopia_guitar/g-major-allegro.mid'), 1), (PosixPath('/Users/rob/workspace/projects/xen_ml/data/mutopia_guitar/Matiegka2.mid'), 1), (PosixPath('/Users/rob/workspace/projects/xen_ml/data/mutopia_guitar/GiulianiOp100No4.mid'), 1), (PosixPath('/Users/rob/workspace/projects/xen_ml/data/mutopia_guitar/horetzky12.mid'), 1), (PosixPath('/Users/rob/workspace/projects/xen_ml/data/mutopia_guitar/carcassi-op60-05.mid'), 1), (PosixPath('/Users/rob/workspace/projects/xen_ml/data/mutopia_guitar/carcassi-op60-11.mid'), 1), (PosixPath('/Users/rob/workspace/projects/xen_ml/data/mutopia_guitar/bwv-1006a_4g.mid'), 1), (PosixPath('/Users/rob/workspace/projects/xen_ml/data/mutopia_guitar/sor_op60-10.mid'), 1), (PosixPath('/Users/rob/workspace/projects/xen_ml/data/mutopia_guitar/horetzky13.mid'), 1), (PosixPath('/Users/rob/workspace/projects/xen_ml/data/mutopia_guitar/carcassi-op60-04.mid'), 1), (PosixPath('/Users/rob/workspace/projects/xen_ml/data/mutopia_guitar/sor_op60-04.mid'), 1), (PosixPath('/Users/rob/workspace/projects/xen_ml/data/mutopia_guitar/aminor-study.mid'), 1), (PosixPath('/Users/rob/workspace/projects/xen_ml/data/mutopia_guitar/bwv-1087-01-g.mid'), 1), (PosixPath('/Users/rob/workspace/projects/xen_ml/data/mutopia_guitar/GiulianiOp100No1.mid'), 1), (PosixPath('/Users/rob/workspace/projects/xen_ml/data/mutopia_guitar/sorf_op35_no23.mid'), 1), (PosixPath('/Users/rob/workspace/projects/xen_ml/data/mutopia_guitar/sor_op2_nr4.mid'), 1), (PosixPath('/Users/rob/workspace/projects/xen_ml/data/mutopia_guitar/horetzky17.mid'), 1), (PosixPath('/Users/rob/workspace/projects/xen_ml/data/mutopia_guitar/carcassi-op60-14.mid'), 1), (PosixPath('/Users/rob/workspace/projects/xen_ml/data/mutopia_guitar/bwv-1006a_5g.mid'), 1), (PosixPath('/Users/rob/workspace/projects/xen_ml/data/mutopia_guitar/carcassi-op60-15.mid'), 1), (PosixPath('/Users/rob/workspace/projects/xen_ml/data/mutopia_guitar/carcassi-op60-01.mid'), 1), (PosixPath('/Users/rob/workspace/projects/xen_ml/data/mutopia_guitar/sor_op60-01.mid'), 1), (PosixPath('/Users/rob/workspace/projects/xen_ml/data/mutopia_guitar/horetzky16.mid'), 1), (PosixPath('/Users/rob/workspace/projects/xen_ml/data/mutopia_guitar/stille-nacht.mid'), 1), (PosixPath('/Users/rob/workspace/projects/xen_ml/data/mutopia_guitar/Matiegka4.mid'), 1), (PosixPath('/Users/rob/workspace/projects/xen_ml/data/mutopia_guitar/capricho-arabe.mid'), 1), (PosixPath('/Users/rob/workspace/projects/xen_ml/data/mutopia_guitar/sorf_op35_no20.mid'), 1), (PosixPath('/Users/rob/workspace/projects/xen_ml/data/mutopia_guitar/horetzky28.mid'), 1), (PosixPath('/Users/rob/workspace/projects/xen_ml/data/mutopia_guitar/carcassi-op60-17.mid'), 1), (PosixPath('/Users/rob/workspace/projects/xen_ml/data/mutopia_guitar/horetzky14.mid'), 1), (PosixPath('/Users/rob/workspace/projects/xen_ml/data/mutopia_guitar/sor_op60-03.mid'), 1), (PosixPath('/Users/rob/workspace/projects/xen_ml/data/mutopia_guitar/carcassi-op60-03.mid'), 1), (PosixPath('/Users/rob/workspace/projects/xen_ml/data/mutopia_guitar/horetzky15.mid'), 1), (PosixPath('/Users/rob/workspace/projects/xen_ml/data/mutopia_guitar/carcassi-op60-02.mid'), 1), (PosixPath('/Users/rob/workspace/projects/xen_ml/data/mutopia_guitar/sor_op60-02.mid'), 1), (PosixPath('/Users/rob/workspace/projects/xen_ml/data/mutopia_guitar/carcassi-op60-16.mid'), 1), (PosixPath('/Users/rob/workspace/projects/xen_ml/data/mutopia_guitar/horetzky29.mid'), 1), (PosixPath('/Users/rob/workspace/projects/xen_ml/data/mutopia_guitar/sorf_op35_no21.mid'), 1), (PosixPath('/Users/rob/workspace/projects/xen_ml/data/mutopia_guitar/GiulianiOp100No3.mid'), 1), (PosixPath('/Users/rob/workspace/projects/xen_ml/data/mutopia_guitar/mertz_etude.mid'), 1), (PosixPath('/Users/rob/workspace/projects/xen_ml/data/mutopia_guitar/aguado-op11n07.mid'), 1), (PosixPath('/Users/rob/workspace/projects/xen_ml/data/mutopia_guitar/sorf-op6n04.mid'), 1), (PosixPath('/Users/rob/workspace/projects/xen_ml/data/mutopia_guitar/sorf-op6n10.mid'), 1), (PosixPath('/Users/rob/workspace/projects/xen_ml/data/mutopia_guitar/guitar-skole-no-19.mid'), 1), (PosixPath('/Users/rob/workspace/projects/xen_ml/data/mutopia_guitar/giuliani-op78n03.mid'), 1), (PosixPath('/Users/rob/workspace/projects/xen_ml/data/mutopia_guitar/boije_835_Vidal_Paul_Air_Des_Folies_DEspagnes.mid'), 1), (PosixPath('/Users/rob/workspace/projects/xen_ml/data/mutopia_guitar/giuliani-op50n16.mid'), 1), (PosixPath('/Users/rob/workspace/projects/xen_ml/data/mutopia_guitar/giuliani-op50n02.mid'), 1), (PosixPath('/Users/rob/workspace/projects/xen_ml/data/mutopia_guitar/GiulianiOp100No21.mid'), 1), (PosixPath('/Users/rob/workspace/projects/xen_ml/data/mutopia_guitar/bwv-1006a_2g.mid'), 1), (PosixPath('/Users/rob/workspace/projects/xen_ml/data/mutopia_guitar/GiulianiOp100No20.mid'), 1), (PosixPath('/Users/rob/workspace/projects/xen_ml/data/mutopia_guitar/giuliani-op50n03.mid'), 1), (PosixPath('/Users/rob/workspace/projects/xen_ml/data/mutopia_guitar/sorf_op35_no3.mid'), 1), (PosixPath('/Users/rob/workspace/projects/xen_ml/data/mutopia_guitar/giuliani-o51-01.mid'), 1), (PosixPath('/Users/rob/workspace/projects/xen_ml/data/mutopia_guitar/sorf-op6n11.mid'), 1), (PosixPath('/Users/rob/workspace/projects/xen_ml/data/mutopia_guitar/sorf-op6n05.mid'), 1), (PosixPath('/Users/rob/workspace/projects/xen_ml/data/mutopia_guitar/aguado-op11n06.mid'), 1), (PosixPath('/Users/rob/workspace/projects/xen_ml/data/mutopia_guitar/aguado-op11n04.mid'), 1), (PosixPath('/Users/rob/workspace/projects/xen_ml/data/mutopia_guitar/aguado-op11n10.mid'), 1), (PosixPath('/Users/rob/workspace/projects/xen_ml/data/mutopia_guitar/RedAppleRag.mid'), 1), (PosixPath('/Users/rob/workspace/projects/xen_ml/data/mutopia_guitar/bwv-1087-02-g.mid'), 1), (PosixPath('/Users/rob/workspace/projects/xen_ml/data/mutopia_guitar/sorf-op6n07.mid'), 1), (PosixPath('/Users/rob/workspace/projects/xen_ml/data/mutopia_guitar/sorf_op35_no1.mid'), 1), (PosixPath('/Users/rob/workspace/projects/xen_ml/data/mutopia_guitar/giuliani-o51-03.mid'), 1), (PosixPath('/Users/rob/workspace/projects/xen_ml/data/mutopia_guitar/horetzky9.mid'), 1), (PosixPath('/Users/rob/workspace/projects/xen_ml/data/mutopia_guitar/giuliani-op50n01.mid'), 1), (PosixPath('/Users/rob/workspace/projects/xen_ml/data/mutopia_guitar/GiulianiOp100No22.mid'), 1), (PosixPath('/Users/rob/workspace/projects/xen_ml/data/mutopia_guitar/giuliani-op50n29.mid'), 1), (PosixPath('/Users/rob/workspace/projects/xen_ml/data/mutopia_guitar/GiulianiOp100No23.mid'), 1), (PosixPath('/Users/rob/workspace/projects/xen_ml/data/mutopia_guitar/giuliani-op50n14.mid'), 1), (PosixPath('/Users/rob/workspace/projects/xen_ml/data/mutopia_guitar/giuliani-op78n01.mid'), 1), (PosixPath('/Users/rob/workspace/projects/xen_ml/data/mutopia_guitar/horetzky58.mid'), 1), (PosixPath('/Users/rob/workspace/projects/xen_ml/data/mutopia_guitar/horetzky8.mid'), 1), (PosixPath('/Users/rob/workspace/projects/xen_ml/data/mutopia_guitar/sorf-op6n12.mid'), 1), (PosixPath('/Users/rob/workspace/projects/xen_ml/data/mutopia_guitar/forsting.mid'), 1), (PosixPath('/Users/rob/workspace/projects/xen_ml/data/mutopia_guitar/aguado-op11n05.mid'), 1), (PosixPath('/Users/rob/workspace/projects/xen_ml/data/mutopia_guitar/aguado-op11n01.mid'), 1), (PosixPath('/Users/rob/workspace/projects/xen_ml/data/mutopia_guitar/SorF_Andantino.mid'), 1), (PosixPath('/Users/rob/workspace/projects/xen_ml/data/mutopia_guitar/sorf-op6n02.mid'), 1), (PosixPath('/Users/rob/workspace/projects/xen_ml/data/mutopia_guitar/SpanishFandango1882.mid'), 1), (PosixPath('/Users/rob/workspace/projects/xen_ml/data/mutopia_guitar/sorf_op35_no4.mid'), 1), (PosixPath('/Users/rob/workspace/projects/xen_ml/data/mutopia_guitar/guitar-skole-no-23.mid'), 1), (PosixPath('/Users/rob/workspace/projects/xen_ml/data/mutopia_guitar/recuerdos.mid'), 1), (PosixPath('/Users/rob/workspace/projects/xen_ml/data/mutopia_guitar/horetzky48.mid'), 1), (PosixPath('/Users/rob/workspace/projects/xen_ml/data/mutopia_guitar/sor_op_1_4.mid'), 1), (PosixPath('/Users/rob/workspace/projects/xen_ml/data/mutopia_guitar/giuliani-op78n05.mid'), 1), (PosixPath('/Users/rob/workspace/projects/xen_ml/data/mutopia_guitar/giuliani-op59n08.mid'), 1), (PosixPath('/Users/rob/workspace/projects/xen_ml/data/mutopia_guitar/giuliani-op50n10.mid'), 1), (PosixPath('/Users/rob/workspace/projects/xen_ml/data/mutopia_guitar/giuliani-op50n11.mid'), 1), (PosixPath('/Users/rob/workspace/projects/xen_ml/data/mutopia_guitar/giuliani-op50n05.mid'), 1), (PosixPath('/Users/rob/workspace/projects/xen_ml/data/mutopia_guitar/horetzky49.mid'), 1), (PosixPath('/Users/rob/workspace/projects/xen_ml/data/mutopia_guitar/giuliani-o51-07.mid'), 1), (PosixPath('/Users/rob/workspace/projects/xen_ml/data/mutopia_guitar/sorf_op35_no5.mid'), 1), (PosixPath('/Users/rob/workspace/projects/xen_ml/data/mutopia_guitar/sorf-op6n03.mid'), 1), (PosixPath('/Users/rob/workspace/projects/xen_ml/data/mutopia_guitar/aguado-op11n02.mid'), 1), (PosixPath('/Users/rob/workspace/projects/xen_ml/data/mutopia_guitar/sorf-op6n01.mid'), 1), (PosixPath('/Users/rob/workspace/projects/xen_ml/data/mutopia_guitar/o29-13.mid'), 1), (PosixPath('/Users/rob/workspace/projects/xen_ml/data/mutopia_guitar/giuliani-o51-05.mid'), 1), (PosixPath('/Users/rob/workspace/projects/xen_ml/data/mutopia_guitar/guitar-skole-no-08.mid'), 1), (PosixPath('/Users/rob/workspace/projects/xen_ml/data/mutopia_guitar/Greensleaves.mid'), 1), (PosixPath('/Users/rob/workspace/projects/xen_ml/data/mutopia_guitar/bwv-1087-04-g.mid'), 1), (PosixPath('/Users/rob/workspace/projects/xen_ml/data/mutopia_guitar/bwv-1006a_3g.mid'), 1), (PosixPath('/Users/rob/workspace/projects/xen_ml/data/mutopia_guitar/GiulianiOp100No24.mid'), 1), (PosixPath('/Users/rob/workspace/projects/xen_ml/data/mutopia_guitar/giuliani-op50n13.mid'), 1), (PosixPath('/Users/rob/workspace/projects/xen_ml/data/mutopia_guitar/giuliani-op50n07.mid'), 1), (PosixPath('/Users/rob/workspace/projects/xen_ml/data/mutopia_guitar/GiulianiOp100No18.mid'), 1), (PosixPath('/Users/rob/workspace/projects/xen_ml/data/mutopia_guitar/GiulianiOp100No19.mid'), 1), (PosixPath('/Users/rob/workspace/projects/xen_ml/data/mutopia_guitar/sor_op_1_6.mid'), 1), (PosixPath('/Users/rob/workspace/projects/xen_ml/data/mutopia_guitar/guitar-skole-no-09.mid'), 1), (PosixPath('/Users/rob/workspace/projects/xen_ml/data/mutopia_guitar/guitar-skole-no-21.mid'), 1), (PosixPath('/Users/rob/workspace/projects/xen_ml/data/mutopia_guitar/sorf_op35_no6.mid'), 1), (PosixPath('/Users/rob/workspace/projects/xen_ml/data/mutopia_guitar/giuliani-o51-04.mid'), 1), (PosixPath('/Users/rob/workspace/projects/xen_ml/data/mutopia_guitar/aguado-op11n03.mid'), 1), (PosixPath('/Users/rob/workspace/projects/xen_ml/data/mutopia_guitar/giuliani-o51-09.mid'), 1), (PosixPath('/Users/rob/workspace/projects/xen_ml/data/mutopia_guitar/guitar-skole-no-10.mid'), 1), (PosixPath('/Users/rob/workspace/projects/xen_ml/data/mutopia_guitar/guitar-skole-no-04.mid'), 1), (PosixPath('/Users/rob/workspace/projects/xen_ml/data/mutopia_guitar/carcassi-op26-05.mid'), 1), (PosixPath('/Users/rob/workspace/projects/xen_ml/data/mutopia_guitar/horetzky47.mid'), 1), (PosixPath('/Users/rob/workspace/projects/xen_ml/data/mutopia_guitar/horetzky53.mid'), 1), (PosixPath('/Users/rob/workspace/projects/xen_ml/data/mutopia_guitar/giuliani-op59n13.mid'), 1), (PosixPath('/Users/rob/workspace/projects/xen_ml/data/mutopia_guitar/GiulianiOp100No14.mid'), 1), (PosixPath('/Users/rob/workspace/projects/xen_ml/data/mutopia_guitar/GiulianiOp100No15.mid'), 1), (PosixPath('/Users/rob/workspace/projects/xen_ml/data/mutopia_guitar/giuliani-op59n06.mid'), 1), (PosixPath('/Users/rob/workspace/projects/xen_ml/data/mutopia_guitar/giuliani-op50n22.mid'), 1), (PosixPath('/Users/rob/workspace/projects/xen_ml/data/mutopia_guitar/Sor_Etude_Opus35_14.mid'), 1), (PosixPath('/Users/rob/workspace/projects/xen_ml/data/mutopia_guitar/horetzky52.mid'), 1), (PosixPath('/Users/rob/workspace/projects/xen_ml/data/mutopia_guitar/guitar-skole-no-05.mid'), 1), (PosixPath('/Users/rob/workspace/projects/xen_ml/data/mutopia_guitar/horetzky2.mid'), 1), (PosixPath('/Users/rob/workspace/projects/xen_ml/data/mutopia_guitar/giuliani-o51-08.mid'), 1), (PosixPath('/Users/rob/workspace/projects/xen_ml/data/mutopia_guitar/bwv997-03sarabande.mid'), 1), (PosixPath('/Users/rob/workspace/projects/xen_ml/data/mutopia_guitar/guitar-skole-no-07.mid'), 1), (PosixPath('/Users/rob/workspace/projects/xen_ml/data/mutopia_guitar/guitar-skole-no-13.mid'), 1), (PosixPath('/Users/rob/workspace/projects/xen_ml/data/mutopia_guitar/horetzky50.mid'), 1), (PosixPath('/Users/rob/workspace/projects/xen_ml/data/mutopia_guitar/carcassi-op26-06.mid'), 1), (PosixPath('/Users/rob/workspace/projects/xen_ml/data/mutopia_guitar/giuliani-op59n04.mid'), 1), (PosixPath('/Users/rob/workspace/projects/xen_ml/data/mutopia_guitar/giuliani-op59n10.mid'), 1), (PosixPath('/Users/rob/workspace/projects/xen_ml/data/mutopia_guitar/GiulianiOp100No17.mid'), 1), (PosixPath('/Users/rob/workspace/projects/xen_ml/data/mutopia_guitar/GiulianiOp100No16.mid'), 1), (PosixPath('/Users/rob/workspace/projects/xen_ml/data/mutopia_guitar/giuliani-op50n09.mid'), 1), (PosixPath('/Users/rob/workspace/projects/xen_ml/data/mutopia_guitar/giuliani-op59n11.mid'), 1), (PosixPath('/Users/rob/workspace/projects/xen_ml/data/mutopia_guitar/giuliani-op50n21.mid'), 1), (PosixPath('/Users/rob/workspace/projects/xen_ml/data/mutopia_guitar/horetzky45.mid'), 1), (PosixPath('/Users/rob/workspace/projects/xen_ml/data/mutopia_guitar/horetzky51.mid'), 1), (PosixPath('/Users/rob/workspace/projects/xen_ml/data/mutopia_guitar/guitar-skole-no-12.mid'), 1), (PosixPath('/Users/rob/workspace/projects/xen_ml/data/mutopia_guitar/horetzky1.mid'), 1), (PosixPath('/Users/rob/workspace/projects/xen_ml/data/mutopia_guitar/sorf_op35_no9.mid'), 1), (PosixPath('/Users/rob/workspace/projects/xen_ml/data/mutopia_guitar/adelita.mid'), 1), (PosixPath('/Users/rob/workspace/projects/xen_ml/data/mutopia_guitar/aguado-op11n08.mid'), 1), (PosixPath('/Users/rob/workspace/projects/xen_ml/data/mutopia_guitar/guitar-skole-no-02.mid'), 1), (PosixPath('/Users/rob/workspace/projects/xen_ml/data/mutopia_guitar/guitar-skole-no-16.mid'), 1), (PosixPath('/Users/rob/workspace/projects/xen_ml/data/mutopia_guitar/horetzky5.mid'), 1), (PosixPath('/Users/rob/workspace/projects/xen_ml/data/mutopia_guitar/horetzky55.mid'), 1), (PosixPath('/Users/rob/workspace/projects/xen_ml/data/mutopia_guitar/horetzky41.mid'), 1), (PosixPath('/Users/rob/workspace/projects/xen_ml/data/mutopia_guitar/giuliani-op50n19.mid'), 1), (PosixPath('/Users/rob/workspace/projects/xen_ml/data/mutopia_guitar/giuliani-op50n30.mid'), 1), (PosixPath('/Users/rob/workspace/projects/xen_ml/data/mutopia_guitar/giuliani-op59n14.mid'), 1), (PosixPath('/Users/rob/workspace/projects/xen_ml/data/mutopia_guitar/giuliani-op50n24.mid'), 1), (PosixPath('/Users/rob/workspace/projects/xen_ml/data/mutopia_guitar/GiulianiOp100No13.mid'), 1), (PosixPath('/Users/rob/workspace/projects/xen_ml/data/mutopia_guitar/giuliani-op50n18.mid'), 1), (PosixPath('/Users/rob/workspace/projects/xen_ml/data/mutopia_guitar/horetzky40.mid'), 1), (PosixPath('/Users/rob/workspace/projects/xen_ml/data/mutopia_guitar/horetzky54.mid'), 1), (PosixPath('/Users/rob/workspace/projects/xen_ml/data/mutopia_guitar/horetzky4.mid'), 1), (PosixPath('/Users/rob/workspace/projects/xen_ml/data/mutopia_guitar/guitar-skole-no-03.mid'), 1), (PosixPath('/Users/rob/workspace/projects/xen_ml/data/mutopia_guitar/aguado-op11n09.mid'), 1), (PosixPath('/Users/rob/workspace/projects/xen_ml/data/mutopia_guitar/sorf-op6n08.mid'), 1), (PosixPath('/Users/rob/workspace/projects/xen_ml/data/mutopia_guitar/horetzky6.mid'), 1), (PosixPath('/Users/rob/workspace/projects/xen_ml/data/mutopia_guitar/horetzky42.mid'), 1), (PosixPath('/Users/rob/workspace/projects/xen_ml/data/mutopia_guitar/horetzky56.mid'), 1), (PosixPath('/Users/rob/workspace/projects/xen_ml/data/mutopia_guitar/GiulianiOp100No11.mid'), 1), (PosixPath('/Users/rob/workspace/projects/xen_ml/data/mutopia_guitar/giuliani-op59n16.mid'), 1), (PosixPath('/Users/rob/workspace/projects/xen_ml/data/mutopia_guitar/giuliani-op50n32.mid'), 1), (PosixPath('/Users/rob/workspace/projects/xen_ml/data/mutopia_guitar/giuliani-op50n26.mid'), 1), (PosixPath('/Users/rob/workspace/projects/xen_ml/data/mutopia_guitar/giuliani-op59n02.mid'), 1), (PosixPath('/Users/rob/workspace/projects/xen_ml/data/mutopia_guitar/giuliani-op50n27.mid'), 1), (PosixPath('/Users/rob/workspace/projects/xen_ml/data/mutopia_guitar/bwv-1006a_1g.mid'), 1), (PosixPath('/Users/rob/workspace/projects/xen_ml/data/mutopia_guitar/GiulianiOp100No10.mid'), 1), (PosixPath('/Users/rob/workspace/projects/xen_ml/data/mutopia_guitar/horetzky57.mid'), 1), (PosixPath('/Users/rob/workspace/projects/xen_ml/data/mutopia_guitar/carcassi-op26-01.mid'), 1), (PosixPath('/Users/rob/workspace/projects/xen_ml/data/mutopia_guitar/horetzky7.mid'), 1), (PosixPath('/Users/rob/workspace/projects/xen_ml/data/mutopia_guitar/guitar-skole-no-14.mid'), 1), (PosixPath('/Users/rob/workspace/projects/xen_ml/data/mutopia_guitar/sorf-op6n09.mid'), 1), (PosixPath('/Users/rob/workspace/projects/xen_ml/data/mutopia_guitar/sor_op1_1.mid'), 1), (PosixPath('/Users/rob/workspace/projects/xen_ml/data/mutopia_guitar/sor-op5-5.mid'), 1), (PosixPath('/Users/rob/workspace/projects/xen_ml/data/mutopia_guitar/anna-magdalena-04-guitar.mid'), 1), (PosixPath('/Users/rob/workspace/projects/xen_ml/data/mutopia_guitar/sorf_op35_no10.mid'), 1), (PosixPath('/Users/rob/workspace/projects/xen_ml/data/mutopia_guitar/horetzky24.mid'), 1), (PosixPath('/Users/rob/workspace/projects/xen_ml/data/mutopia_guitar/horetzky30.mid'), 1), (PosixPath('/Users/rob/workspace/projects/xen_ml/data/mutopia_guitar/horetzky18.mid'), 1), (PosixPath('/Users/rob/workspace/projects/xen_ml/data/mutopia_guitar/horetzky19.mid'), 1), (PosixPath('/Users/rob/workspace/projects/xen_ml/data/mutopia_guitar/SixStudiesA.mid'), 1), (PosixPath('/Users/rob/workspace/projects/xen_ml/data/mutopia_guitar/horetzky31.mid'), 1), (PosixPath('/Users/rob/workspace/projects/xen_ml/data/mutopia_guitar/horetzky25.mid'), 1), (PosixPath('/Users/rob/workspace/projects/xen_ml/data/mutopia_guitar/sorf_op35_no11.mid'), 1), (PosixPath('/Users/rob/workspace/projects/xen_ml/data/mutopia_guitar/recuerdos-luna.mid'), 1), (PosixPath('/Users/rob/workspace/projects/xen_ml/data/mutopia_guitar/sor_op_1_5_1.mid'), 1), (PosixPath('/Users/rob/workspace/projects/xen_ml/data/mutopia_guitar/Bach_Preludio_BWV997.mid'), 1), (PosixPath('/Users/rob/workspace/projects/xen_ml/data/mutopia_guitar/sor_op_1_5_3.mid'), 1), (PosixPath('/Users/rob/workspace/projects/xen_ml/data/mutopia_guitar/sorf_op35_no13.mid'), 1), (PosixPath('/Users/rob/workspace/projects/xen_ml/data/mutopia_guitar/horetzky33.mid'), 1), (PosixPath('/Users/rob/workspace/projects/xen_ml/data/mutopia_guitar/SixStudiesC.mid'), 1), (PosixPath('/Users/rob/workspace/projects/xen_ml/data/mutopia_guitar/horetzky27.mid'), 1), (PosixPath('/Users/rob/workspace/projects/xen_ml/data/mutopia_guitar/AguadoOp4No4.mid'), 1), (PosixPath('/Users/rob/workspace/projects/xen_ml/data/mutopia_guitar/Bach_Prelude_BWV999.mid'), 1), (PosixPath('/Users/rob/workspace/projects/xen_ml/data/mutopia_guitar/bwv-1006a_6g.mid'), 1), (PosixPath('/Users/rob/workspace/projects/xen_ml/data/mutopia_guitar/AguadoOp4No5.mid'), 1), (PosixPath('/Users/rob/workspace/projects/xen_ml/data/mutopia_guitar/carcassi-op60-19.mid'), 1), (PosixPath('/Users/rob/workspace/projects/xen_ml/data/mutopia_guitar/horetzky32.mid'), 1), (PosixPath('/Users/rob/workspace/projects/xen_ml/data/mutopia_guitar/carcassi-op60-25.mid'), 1), (PosixPath('/Users/rob/workspace/projects/xen_ml/data/mutopia_guitar/SixStudiesB.mid'), 1), (PosixPath('/Users/rob/workspace/projects/xen_ml/data/mutopia_guitar/sor_op_1_5_2.mid'), 1), (PosixPath('/Users/rob/workspace/projects/xen_ml/data/mutopia_guitar/saltarello.mid'), 1), (PosixPath('/Users/rob/workspace/projects/xen_ml/data/mutopia_guitar/sorf-op45n05.mid'), 1), (PosixPath('/Users/rob/workspace/projects/xen_ml/data/mutopia_guitar/sorf-op45n01.mid'), 1), (PosixPath('/Users/rob/workspace/projects/xen_ml/data/mutopia_guitar/spanish-romance.mid'), 1), (PosixPath('/Users/rob/workspace/projects/xen_ml/data/mutopia_guitar/carcassi-op1n01.mid'), 1), (PosixPath('/Users/rob/workspace/projects/xen_ml/data/mutopia_guitar/bwv997-01prelude.mid'), 1), (PosixPath('/Users/rob/workspace/projects/xen_ml/data/mutopia_guitar/sorf_op35_no16.mid'), 1), (PosixPath('/Users/rob/workspace/projects/xen_ml/data/mutopia_guitar/carcassi-op60-09.mid'), 1), (PosixPath('/Users/rob/workspace/projects/xen_ml/data/mutopia_guitar/sor_op60-09.mid'), 1), (PosixPath('/Users/rob/workspace/projects/xen_ml/data/mutopia_guitar/carcassi-op60-21.mid'), 1), (PosixPath('/Users/rob/workspace/projects/xen_ml/data/mutopia_guitar/horetzky36.mid'), 1), (PosixPath('/Users/rob/workspace/projects/xen_ml/data/mutopia_guitar/horetzky22.mid'), 1), (PosixPath('/Users/rob/workspace/projects/xen_ml/data/mutopia_guitar/sor_op2_3.mid'), 1), (PosixPath('/Users/rob/workspace/projects/xen_ml/data/mutopia_guitar/horetzky23.mid'), 1), (PosixPath('/Users/rob/workspace/projects/xen_ml/data/mutopia_guitar/horetzky37.mid'), 1), (PosixPath('/Users/rob/workspace/projects/xen_ml/data/mutopia_guitar/sor_op60-08.mid'), 1), (PosixPath('/Users/rob/workspace/projects/xen_ml/data/mutopia_guitar/carcassi-op60-08.mid'), 1), (PosixPath('/Users/rob/workspace/projects/xen_ml/data/mutopia_guitar/sorf_op35_no17.mid'), 1), (PosixPath('/Users/rob/workspace/projects/xen_ml/data/mutopia_guitar/GiulianiOp100No9.mid'), 1), (PosixPath('/Users/rob/workspace/projects/xen_ml/data/mutopia_guitar/sorf-op45n02.mid'), 1), (PosixPath('/Users/rob/workspace/projects/xen_ml/data/mutopia_guitar/sorf_op35_no15.mid'), 1), (PosixPath('/Users/rob/workspace/projects/xen_ml/data/mutopia_guitar/horetzky21.mid'), 1), (PosixPath('/Users/rob/workspace/projects/xen_ml/data/mutopia_guitar/horetzky35.mid'), 1), (PosixPath('/Users/rob/workspace/projects/xen_ml/data/mutopia_guitar/SixStudiesE.mid'), 1), (PosixPath('/Users/rob/workspace/projects/xen_ml/data/mutopia_guitar/sor_op2_1.mid'), 1), (PosixPath('/Users/rob/workspace/projects/xen_ml/data/mutopia_guitar/AguadoOp4No3.mid'), 1), (PosixPath('/Users/rob/workspace/projects/xen_ml/data/mutopia_guitar/horetzky34.mid'), 1), (PosixPath('/Users/rob/workspace/projects/xen_ml/data/mutopia_guitar/horetzky20.mid'), 1), (PosixPath('/Users/rob/workspace/projects/xen_ml/data/mutopia_guitar/carcassi-op1n03.mid'), 1)]\n"
     ]
    }
   ],
   "source": [
    "partscount = dict()\n",
    "partnames = dict()\n",
    "scorepartcounts = dict()\n",
    "\n",
    "for i, song in enumerate(dataset.songs):\n",
    "    parts = song.getParts()\n",
    "    partscount[len(parts)] = partscount.get(len(parts), 0) + 1\n",
    "    scorepartcounts[song.score.filePath] = len(parts)\n",
    "    for part in parts:\n",
    "        partnames[part.partName] = partnames.get(part.partName, 0) + 1\n",
    "\n",
    "print(partscount)\n",
    "print(partnames)\n",
    "print(sorted(scorepartcounts.items(), key=lambda x: x[1], reverse=True))"
   ]
  },
  {
   "cell_type": "markdown",
   "metadata": {},
   "source": [
    "## Time Signatures"
   ]
  },
  {
   "cell_type": "markdown",
   "metadata": {},
   "source": [
    "Count number of scores which use each time signature"
   ]
  },
  {
   "cell_type": "code",
   "execution_count": 14,
   "metadata": {},
   "outputs": [
    {
     "name": "stdout",
     "output_type": "stream",
     "text": [
      "{'4/4': 235, '2/4': 182, '3/4': 158, '6/4': 7, '6/8': 53, '12/8': 32, '5/4': 5}\n"
     ]
    }
   ],
   "source": [
    "# time signatures are usually stored within the measures object and can change mid score\n",
    "timesigscount = dict()\n",
    "scoretimesigscount = dict()\n",
    "\n",
    "for i, song in enumerate(dataset.songs):\n",
    "    timesigs = song.score.recurse().getElementsByClass(meter.TimeSignature)\n",
    "    scoretimesigscount[song.score.filePath] = len(timesigs)\n",
    "\n",
    "    for timesig in timesigs:\n",
    "        timsiglabel = f'{timesig.numerator}/{timesig.denominator}'\n",
    "        timesigscount[timsiglabel] = timesigscount.get(timsiglabel, 0) + 1\n",
    "\n",
    "print(timesigscount)\n",
    "# print(sorted(scoretimesigscount.items(), key=lambda x: x[1], reverse=True))"
   ]
  }
 ],
 "metadata": {
  "kernelspec": {
   "display_name": "Python 3.9.13 64-bit",
   "language": "python",
   "name": "python3"
  },
  "language_info": {
   "codemirror_mode": {
    "name": "ipython",
    "version": 3
   },
   "file_extension": ".py",
   "mimetype": "text/x-python",
   "name": "python",
   "nbconvert_exporter": "python",
   "pygments_lexer": "ipython3",
   "version": "3.9.13"
  },
  "orig_nbformat": 4,
  "vscode": {
   "interpreter": {
    "hash": "aee8b7b246df8f9039afb4144a1f6fd8d2ca17a180786b69acc140d282b71a49"
   }
  }
 },
 "nbformat": 4,
 "nbformat_minor": 2
}
