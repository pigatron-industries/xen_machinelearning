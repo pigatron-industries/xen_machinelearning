{
 "cells": [
  {
   "attachments": {},
   "cell_type": "markdown",
   "metadata": {},
   "source": [
    "Load scores"
   ]
  },
  {
   "cell_type": "code",
   "execution_count": 1,
   "metadata": {},
   "outputs": [
    {
     "name": "stdout",
     "output_type": "stream",
     "text": [
      "Loading 52 files\n"
     ]
    },
    {
     "data": {
      "application/vnd.jupyter.widget-view+json": {
       "model_id": "3fd01f3542384f25b75bbeddbee989e8",
       "version_major": 2,
       "version_minor": 0
      },
      "text/plain": [
       "IntProgress(value=0, max=52)"
      ]
     },
     "metadata": {},
     "output_type": "display_data"
    },
    {
     "data": {
      "application/vnd.jupyter.widget-view+json": {
       "model_id": "69287d28aae94b729a91f423f4ef344d",
       "version_major": 2,
       "version_minor": 0
      },
      "text/plain": [
       "Label(value='')"
      ]
     },
     "metadata": {},
     "output_type": "display_data"
    },
    {
     "name": "stdout",
     "output_type": "stream",
     "text": [
      "Loaded 52 songs\n",
      "Loading 69 files\n"
     ]
    },
    {
     "data": {
      "application/vnd.jupyter.widget-view+json": {
       "model_id": "7e9658f00b264413964aca53c790245b",
       "version_major": 2,
       "version_minor": 0
      },
      "text/plain": [
       "IntProgress(value=0, max=69)"
      ]
     },
     "metadata": {},
     "output_type": "display_data"
    },
    {
     "data": {
      "application/vnd.jupyter.widget-view+json": {
       "model_id": "d565cd7d8e744a70b864002dcc538b18",
       "version_major": 2,
       "version_minor": 0
      },
      "text/plain": [
       "Label(value='')"
      ]
     },
     "metadata": {},
     "output_type": "display_data"
    },
    {
     "name": "stdout",
     "output_type": "stream",
     "text": [
      "Loaded 121 songs\n"
     ]
    }
   ],
   "source": [
    "import os\n",
    "import numpy as np\n",
    "from music21 import converter, pitch, interval, instrument, note, stream, meter, percussion\n",
    "from matplotlib import pyplot as plt\n",
    "\n",
    "from xen.visualise import plotPart\n",
    "from xen.data.SongData import SongDataSet\n",
    "from xen.data.Filter import NameFilter, SongDataFilter\n",
    "\n",
    "# paths = [\"../../../ai/trainingdata/music/800000_Drum_Percussion_MIDI_Archive/Rock-Indie\"]\n",
    "paths = [\n",
    "    \"../../../ai/trainingdata/music/800000_Drum_Percussion_MIDI_Archive/Superior Drummer 2 Drum Midi/00201@BREAKBEAT HOUSE\", \n",
    "    \"../../../ai/trainingdata/music/800000_Drum_Percussion_MIDI_Archive/Superior Drummer 2 Drum Midi/00201@BREAKS & SWINGBEATS VOL1\"\n",
    "]\n",
    "# paths = [\"../../../ai/trainingdata/music/songsterr/lorna-shore/Lorna Shore - King Ov Deception (552149).mid\"]\n",
    "# paths = [\"../../../ai/trainingdata/music/800000_Drum_Percussion_MIDI_Archive/50's Drummer MIDI Files/01 Rock'n'Roll/01 Dancin Rick 166BPM/01 8th Hat.mid\"]\n",
    "\n",
    "dataset = SongDataSet.fromMidiPaths(paths, recursive=False)\n"
   ]
  },
  {
   "attachments": {},
   "cell_type": "markdown",
   "metadata": {},
   "source": [
    "## Filter"
   ]
  },
  {
   "cell_type": "code",
   "execution_count": 3,
   "metadata": {},
   "outputs": [
    {
     "name": "stdout",
     "output_type": "stream",
     "text": [
      "Filtered to 121 songs\n",
      "121 songs after filtering\n"
     ]
    }
   ],
   "source": [
    "dataset = dataset.filterTimeSig('4/4')\n",
    "\n",
    "print(f'{len(dataset.songs)} songs after filtering')"
   ]
  },
  {
   "attachments": {},
   "cell_type": "markdown",
   "metadata": {},
   "source": [
    "## Parts analysis"
   ]
  },
  {
   "cell_type": "code",
   "execution_count": null,
   "metadata": {},
   "outputs": [],
   "source": [
    "partscount = {}\n",
    "partnames = {}\n",
    "instruments = {}\n",
    "scorepartcounts = {}\n",
    "\n",
    "for i, song in enumerate(dataset.songs):\n",
    "    # parts = song.getParts()\n",
    "    parts = song.getPartsByInstruments(instrumentFilter = NameFilter(include = \"Percussion\"))\n",
    "\n",
    "    partscount[len(parts)] = partscount.get(len(parts), 0) + 1\n",
    "    scorepartcounts[song.filePath] = len(parts)\n",
    "\n",
    "    # instrument.partitionByInstrument(song.score)\n",
    "    # print(song.score.getInstruments())\n",
    "\n",
    "    for part in parts:\n",
    "        partnames[part.partName] = partnames.get(part.partName, 0) + 1\n",
    "        partinstrument = part.getInstruments()[-1]\n",
    "        # print(part.getInstruments()[-1].instrumentName)\n",
    "        # print(part.getInstruments()[-1].midiProgram)\n",
    "        # print(part.getInstruments()[-1].midiChannel)\n",
    "        instruments[partinstrument.instrumentName] = instruments.get(partinstrument.instrumentName, 0) + 1\n",
    "\n",
    "# Analysis of number of scores with different number of parts\n",
    "print(\"Part counts\")\n",
    "print(partscount)\n",
    "# List unique part names\n",
    "print(\"Part names\")\n",
    "print(partnames)\n",
    "# List unique instrument names\n",
    "print(\"Instrument names\")\n",
    "print(instruments)\n",
    "# List scores with number of parts\n",
    "print(\"Score part counts\")\n",
    "print(sorted(scorepartcounts.items(), key=lambda x: x[1], reverse=True))"
   ]
  },
  {
   "attachments": {},
   "cell_type": "markdown",
   "metadata": {},
   "source": [
    "## Time Signatures"
   ]
  },
  {
   "attachments": {},
   "cell_type": "markdown",
   "metadata": {},
   "source": [
    "Count number of scores which use each time signature"
   ]
  },
  {
   "cell_type": "code",
   "execution_count": null,
   "metadata": {},
   "outputs": [],
   "source": [
    "timesigs = dataset.splitByTimeSignature()\n",
    "\n",
    "for timesig in timesigs:\n",
    "    print(f'{len(timesigs[timesig].songs)} songs in {timesig} time')\n",
    "\n",
    "# print(timesigs['3/4'].songs[0].filePath)"
   ]
  },
  {
   "cell_type": "code",
   "execution_count": null,
   "metadata": {},
   "outputs": [],
   "source": [
    "# time signatures are usually stored within the measures object and can change mid score\n",
    "timesigscount = dict()\n",
    "scoretimesigscount = dict()\n",
    "\n",
    "for i, song in enumerate(dataset.songs):\n",
    "    timesigs = song.score.recurse().getElementsByClass(meter.TimeSignature)\n",
    "    scoretimesigscount[song.filePath] = len(timesigs)\n",
    "\n",
    "    for timesig in timesigs:\n",
    "        timsiglabel = f'{timesig.numerator}/{timesig.denominator}'\n",
    "        timesigscount[timsiglabel] = timesigscount.get(timsiglabel, 0) + 1\n",
    "\n",
    "print(timesigscount)\n",
    "print(sorted(scoretimesigscount.items(), key=lambda x: x[1], reverse=True))"
   ]
  },
  {
   "attachments": {},
   "cell_type": "markdown",
   "metadata": {},
   "source": [
    "## Notes Used"
   ]
  },
  {
   "cell_type": "code",
   "execution_count": 5,
   "metadata": {},
   "outputs": [
    {
     "name": "stdout",
     "output_type": "stream",
     "text": [
      "{\n",
      "    \"CLOSED_HI_HAT\": 3967,\n",
      "    \"BASS_DRUM_1\": 2381,\n",
      "    \"60\": 2111,\n",
      "    \"ACCOUSTIC_SNARE\": 1839,\n",
      "    \"TAMBOURINE\": 744,\n",
      "    \"80\": 644,\n",
      "    \"81\": 539,\n",
      "    \"ELECTRIC_SNARE\": 494,\n",
      "    \"62\": 445,\n",
      "    \"64\": 397,\n",
      "    \"OPEN_HI_HAT\": 343,\n",
      "    \"PEDAL_HI_HAT\": 310,\n",
      "    \"COWBELL\": 306,\n",
      "    \"61\": 186,\n",
      "    \"63\": 185,\n",
      "    \"70\": 136,\n",
      "    \"SIDE_STICK\": 88,\n",
      "    \"ACCOUSTIC_BASS_DRUM\": 11,\n",
      "    \"CRASH_CYMBAL_1\": 10,\n",
      "    \"CRASH_CYMBAL_2\": 8,\n",
      "    \"HIGH_FLOOR_TOM\": 6,\n",
      "    \"LOW_FLOOR_TOM\": 5,\n",
      "    \"LOW_TOM\": 5,\n",
      "    \"LOW_MID_TOM\": 5,\n",
      "    \"HI_MID_TOM\": 5\n",
      "}\n"
     ]
    }
   ],
   "source": [
    "from xen.codecs.NoteSequenceSparseCodec import NoteSequenceSparseCodec\n",
    "from xen.data.SongData import elementToMidiPitches\n",
    "from xen.data.PercussionMap import getPercussionName\n",
    "from music21.percussion import PercussionChord\n",
    "from music21.note import Note, Unpitched, NotRest\n",
    "from music21.chord import Chord\n",
    "from music21.stream.base import Part\n",
    "import json\n",
    "\n",
    "from typing import List\n",
    "\n",
    "notecounts = {}\n",
    "\n",
    "for song in dataset.songs:\n",
    "    songnotecounts = {}\n",
    "    # for part in song.getParts():\n",
    "    for part in song.getPartsByInstruments(NameFilter(include=[\"Percussion\"])):\n",
    "        for element in part.recurse().notes:\n",
    "            for midipitch in elementToMidiPitches(element):\n",
    "                notecounts[midipitch] = notecounts.get(midipitch, 0) + 1\n",
    "                songnotecounts[midipitch] = songnotecounts.get(midipitch, 0) + 1\n",
    "    songnotecounts = dict(sorted(songnotecounts.items()))\n",
    "    songnotecounts = {getPercussionName(k): v for k, v in songnotecounts.items()}\n",
    "    # print(song.filePath)\n",
    "    # print(json.dumps(songnotecounts, indent=4))\n",
    "\n",
    "notecounts = dict(sorted(notecounts.items()))\n",
    "\n",
    "# convert midi pitches to drum names\n",
    "notecounts = {getPercussionName(k): v for k, v in notecounts.items()}\n",
    "# print(json.dumps(notecounts, indent=4))\n",
    "\n",
    "# order dict by values\n",
    "notecounts = dict(sorted(notecounts.items(), key=lambda x: x[1], reverse=True))\n",
    "\n",
    "print(json.dumps(notecounts, indent=4))\n"
   ]
  }
 ],
 "metadata": {
  "kernelspec": {
   "display_name": "Python 3.8.9 64-bit",
   "language": "python",
   "name": "python3"
  },
  "language_info": {
   "codemirror_mode": {
    "name": "ipython",
    "version": 3
   },
   "file_extension": ".py",
   "mimetype": "text/x-python",
   "name": "python",
   "nbconvert_exporter": "python",
   "pygments_lexer": "ipython3",
   "version": "3.11.3"
  },
  "vscode": {
   "interpreter": {
    "hash": "31f2aee4e71d21fbe5cf8b01ff0e069b9275f58929596ceb00d14d90e3e16cd6"
   }
  }
 },
 "nbformat": 4,
 "nbformat_minor": 2
}
