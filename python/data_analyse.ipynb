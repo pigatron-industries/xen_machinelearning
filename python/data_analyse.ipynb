{
 "cells": [
  {
   "attachments": {},
   "cell_type": "markdown",
   "metadata": {},
   "source": [
    "Load scores"
   ]
  },
  {
   "cell_type": "code",
   "execution_count": 42,
   "metadata": {},
   "outputs": [
    {
     "name": "stdout",
     "output_type": "stream",
     "text": [
      "Loading 64 files\n"
     ]
    },
    {
     "data": {
      "application/vnd.jupyter.widget-view+json": {
       "model_id": "f184fa71f9094beb8b750c5248376ee8",
       "version_major": 2,
       "version_minor": 0
      },
      "text/plain": [
       "IntProgress(value=0, max=64)"
      ]
     },
     "metadata": {},
     "output_type": "display_data"
    },
    {
     "data": {
      "application/vnd.jupyter.widget-view+json": {
       "model_id": "26f118ad9302402d8bb637c843fd15a2",
       "version_major": 2,
       "version_minor": 0
      },
      "text/plain": [
       "Label(value='')"
      ]
     },
     "metadata": {},
     "output_type": "display_data"
    },
    {
     "name": "stdout",
     "output_type": "stream",
     "text": [
      "Loaded 64 songs\n"
     ]
    }
   ],
   "source": [
    "import os\n",
    "import numpy as np\n",
    "from music21 import converter, pitch, interval, instrument, note, stream, meter\n",
    "from matplotlib import pyplot as plt\n",
    "\n",
    "from xen.visualise import plotPart\n",
    "from xen.data.SongData import SongDataSet\n",
    "\n",
    "# data_dir = \"../../../ai/trainingdata/music/800000_Drum_Percussion_MIDI_Archive/Rock-Indie\"\n",
    "# paths = [\"../../../ai/trainingdata/music/songsterr/lorna-shore/Lorna Shore - Pain Remains III- In a Sea of Fire (555725).mid\"]\n",
    "# paths = [\"../../../ai/trainingdata/music/songsterr/lorna-shore/\"]\n",
    "paths = [\"../../../ai/trainingdata/music/800000_Drum_Percussion_MIDI_Archive/50's Drummer MIDI Files/01 Rock'n'Roll/01 Dancin Rick 166BPM/01 8th Hat.mid\"]\n",
    "\n",
    "dataset = SongDataSet.fromMidiPaths(paths, recursive=False)\n"
   ]
  },
  {
   "attachments": {},
   "cell_type": "markdown",
   "metadata": {},
   "source": [
    "## Filter"
   ]
  },
  {
   "cell_type": "code",
   "execution_count": 43,
   "metadata": {},
   "outputs": [
    {
     "name": "stdout",
     "output_type": "stream",
     "text": [
      "Filtered to 64 songs\n",
      "64 songs after filtering\n"
     ]
    }
   ],
   "source": [
    "dataset = dataset.filterTimeSig('4/4')\n",
    "\n",
    "print(f'{len(dataset.songs)} songs after filtering')"
   ]
  },
  {
   "attachments": {},
   "cell_type": "markdown",
   "metadata": {},
   "source": [
    "## Parts analysis"
   ]
  },
  {
   "cell_type": "code",
   "execution_count": 46,
   "metadata": {},
   "outputs": [
    {
     "name": "stdout",
     "output_type": "stream",
     "text": [
      "Part counts\n",
      "{4: 7, 2: 6, 15: 3, 9: 4, 10: 4, 6: 8, 5: 9, 7: 7, 11: 3, 17: 1, 1: 4, 14: 2, 8: 2, 18: 2, 12: 1, 13: 1}\n",
      "Part names\n",
      "{'Solo Guitar': 5, 'Lead Guitar': 4, 'Rhythm Guitar': 6, 'Bass Guitar': 6, 'Adam De Micco': 9, 'Lead': 4, 'Solo': 8, \"Andrew O'Connor - Rhythm Guitar\": 14, 'Adam De Micco - Lead Guitar': 14, 'Adam De Micco - Harmonies': 7, 'Michael Yager - Bass Guitar': 13, 'Austin Archey - Drums': 15, 'Violin Melody': 10, 'Violin Support': 7, 'Viola': 9, 'Cello': 13, 'Contrabass': 10, 'Choir Pad': 5, 'Strings Pad': 7, 'Strings Pad Reverb': 4, 'Synth': 3, 'Bass Pad': 5, 'Ambient 1': 1, 'Ambient 2': 1, 'Drums': 17, 'Adam': 1, 'Adam De Micco - Additional Guitar': 2, 'Choir': 13, 'Pad Synthesizer': 2, 'Rhythm L': 2, 'Rhythm R': 2, 'Bass': 12, 'Drum SFX': 7, 'Synth Strings': 7, 'Strings': 7, 'Distortion Guitar': 2, 'LEAD GTR': 3, 'SOLO': 9, 'SOLO HARMONY': 2, 'Guitar 1': 4, 'Guitar 2': 4, 'Lead/Solo': 1, 'FX': 1, 'Organ': 2, 'RYTHYM GTR L': 2, 'RYTHYM GTR R': 2, 'BASS': 2, 'LEAD GTR 1': 6, 'LEAD GTR 2': 6, 'Adam De Micco (Lead Guitar)': 2, \"Andrew O'Connor (Rhythym Guitar)\": 2, 'Michael Yager - Bass (Pick)': 2, 'Austin Archey (Drums)': 2, 'Track 1': 3, 'Track 2': 2, 'Track 3': 2, 'Percussion': 4, \"Andrew O'Connor\": 9, 'Overdub': 1, 'Acoustic Guitar': 4, 'Synth I': 1, 'Synth (FX) II': 1, 'Austin Archey': 8, 'Bass (4 String)': 1, 'Harmony Guitar': 1, 'Guitar R': 1, 'Guitar L': 1, 'Leads': 1, 'Lead Harmonic': 1, 'Synth Guitar': 1, 'Violin': 7, 'Ensamble': 1, 'Bass Drop': 1, 'Bass (Pick)': 1, 'Solo Harmony': 4, 'Lead Harmony': 1, 'Additional Guitar': 2, 'Clean Guitar 1': 1, 'Clean Guitar 2': 1, 'Adam De Micco (Additional)': 2, 'Michael Yager': 6, 'Track 4': 1, 'Gary Herrera - Bass Guitar': 1, 'Reverse Cymbal': 4, 'Extra Guitar': 3, 'Synth Pad': 2, 'Synth FX I': 3, 'Synth FX II': 3, 'RHYTHM GTR L': 3, 'RHYTHM GTR 2': 4, 'Viola 1': 1, 'Viola 2': 1, 'Cello 1': 1, 'Cello 2': 1, 'Trumpet': 1, 'French Horn': 1, 'Trombone': 1, 'Synth Pad (Staff 1)': 1, 'Synth Pad (Staff 2)': 1, 'RHYTHM GTR R': 2, 'RHYTHM GTR 1': 3, 'DRUMS': 1, 'Lead guitar': 1, 'Rythm Guitar': 1, 'Acoustic': 2, 'Pads': 2, 'Horns': 2, 'Drums Orchestral': 3, 'Ambient': 1, 'Adam De Micco - Rhythm Guitar': 1, 'Adam De Micco - Additional Harmonies': 1, 'Adam De Micco - Bass Guitar': 1, 'Backing Strings': 1, 'Synth Lead': 1, 'Strings Lead': 1, 'Piano': 1, 'Adam De Micco  - Lead Guitar': 1, 'Organ (Staff 1)': 1, 'Organ (Staff 2)': 1, 'Acoustic Piano (Staff 1)': 1, 'Acoustic Piano (Staff 2)': 1, 'Timpani': 3, 'Brass': 2, 'Rhythm and Lead': 1, 'LEAD GTR 3': 1, 'Acoustic Piano': 2, 'Sparkle Synth **': 1, 'Rhythm Guitar 1': 1, 'Rhythm Guitar 2': 1, 'Sequencer Synthesizer': 1, 'Bass Synth': 1, 'Electric Piano': 1, 'Strings Melody': 1, 'Strings Support': 1, 'Rythm R': 1, 'Rythm L': 1, 'Choir Background': 1, 'Acoustic Grand Piano': 1, 'RHYTHM GTR': 1, 'Lead 1': 1, 'Lead 2': 1}\n",
      "Instrument names\n",
      "{'Electric Guitar': 179, 'Electric Bass': 48, 'Percussion': 54, 'StringInstrument': 74, 'Viola': 7, 'Choir': 20, 'Sampler': 27, 'Pipe Organ': 1, 'Acoustic Guitar': 15, 'Violin': 9, 'Brass': 4, 'Violoncello': 2, 'Contrabass': 1, 'Trumpet': 1, 'Horn': 2, 'Trombone': 1, 'Piano': 9, 'Electric Organ': 3, 'Timpani': 3, 'Voice': 1, 'Electric Piano': 1}\n",
      "Score part counts\n",
      "[('../../../ai/trainingdata/music/songsterr/lorna-shore/Lorna Shore - Into The Earth (593120).mid', 18), ('../../../ai/trainingdata/music/songsterr/lorna-shore/Lorna Shore - Pain Remains III- In a Sea of Fire (555725).mid', 18), ('../../../ai/trainingdata/music/songsterr/lorna-shore/Lorna Shore - Sun--Eater (593571).mid', 17), ('../../../ai/trainingdata/music/songsterr/lorna-shore/Lorna Shore - Pain Remains I- Dancing Like Flames (Drop A) (544619).mid', 15), ('../../../ai/trainingdata/music/songsterr/lorna-shore/Lorna Shore - Pain Remains I- Dancing Like Flames (551513).mid', 15), ('../../../ai/trainingdata/music/songsterr/lorna-shore/Lorna Shore - And I Return To Nothingness (548037).mid', 15), ('../../../ai/trainingdata/music/songsterr/lorna-shore/Lorna Shore - To The Hellfire (Guitar Version) (459111).mid', 14), ('../../../ai/trainingdata/music/songsterr/lorna-shore/Lorna Shore - To The Hellfire (8 string guitar) (500666).mid', 14), ('../../../ai/trainingdata/music/songsterr/lorna-shore/Lorna Shore - Of The Abyss (569709).mid', 13), (\"../../../ai/trainingdata/music/songsterr/lorna-shore/Lorna Shore - Pain Remains II- After All That I've Done, I'll Disappear (553781).mid\", 12), ('../../../ai/trainingdata/music/songsterr/lorna-shore/Lorna Shore - To The Hellfire (593575).mid', 11), ('../../../ai/trainingdata/music/songsterr/lorna-shore/Lorna Shore - Pain Remains I solo (595058).mid', 11), ('../../../ai/trainingdata/music/songsterr/lorna-shore/Lorna Shore - Cursed To Die (583086).mid', 11), ('../../../ai/trainingdata/music/songsterr/lorna-shore/Lorna Shore - Wrath (Full Band) (552293).mid', 10), ('../../../ai/trainingdata/music/songsterr/lorna-shore/Lorna Shore - Godmaker (401308).mid', 10), ('../../../ai/trainingdata/music/songsterr/lorna-shore/Lorna Shore - Cursed to die (6 strings) (552882).mid', 10), ('../../../ai/trainingdata/music/songsterr/lorna-shore/Lorna Shore - Pain Remains I- Dancing Like Flames (Orchestra Only) (551285).mid', 10), ('../../../ai/trainingdata/music/songsterr/lorna-shore/Lorna Shore - Pain Remains I- Dancing Like Flames (Outro) (519192).mid', 9), ('../../../ai/trainingdata/music/songsterr/lorna-shore/Lorna Shore - Sun--Eater (Solo & Chorus) (498395).mid', 9), ('../../../ai/trainingdata/music/songsterr/lorna-shore/Lorna Shore - Pain Remains III- In a Sea of Fire (outro) (521112).mid', 9), ('../../../ai/trainingdata/music/songsterr/lorna-shore/Lorna Shore - Of The Abyss Solo (6 String) (519890).mid', 9), ('../../../ai/trainingdata/music/songsterr/lorna-shore/Lorna Shore - King Ov Deception (552149).mid', 8), ('../../../ai/trainingdata/music/songsterr/lorna-shore/Lorna Shore - Pain Remains I- Dancing Like Flames (Chorus) (571487).mid', 8), ('../../../ai/trainingdata/music/songsterr/lorna-shore/Lorna Shore - Life Of Fear (596103).mid', 7), ('../../../ai/trainingdata/music/songsterr/lorna-shore/Lorna Shore - Darkest Spawn (386975).mid', 7), (\"../../../ai/trainingdata/music/songsterr/lorna-shore/Lorna Shore - Where There's Ruin (580375).mid\", 7), ('../../../ai/trainingdata/music/songsterr/lorna-shore/Lorna Shore - Cursed To Die (Breakdown) (555397).mid', 7), ('../../../ai/trainingdata/music/songsterr/lorna-shore/Lorna Shore - To The Hellfire Intro (518943).mid', 7), ('../../../ai/trainingdata/music/songsterr/lorna-shore/Lorna Shore - This Is Hell (573531).mid', 7), ('../../../ai/trainingdata/music/songsterr/lorna-shore/Lorna Shore - To the Hellfire (6-strings) Clean (514958).mid', 7), ('../../../ai/trainingdata/music/songsterr/lorna-shore/Lorna Shore - Soulless Existence (552195).mid', 6), ('../../../ai/trainingdata/music/songsterr/lorna-shore/Lorna Shore - Soulless Existence (+ 4 String Bass) (524016).mid', 6), ('../../../ai/trainingdata/music/songsterr/lorna-shore/Lorna Shore - Pain Remains III- In A Sea of Fire (Guitar only, Incomplete) (539249).mid', 6), ('../../../ai/trainingdata/music/songsterr/lorna-shore/Lorna Shore - Warpath of Disease (533127).mid', 6), ('../../../ai/trainingdata/music/songsterr/lorna-shore/Lorna Shore - Flesh Coffin (450177).mid', 6), ('../../../ai/trainingdata/music/songsterr/lorna-shore/Lorna Shore - Into The Earth (Drop E) (523383).mid', 6), ('../../../ai/trainingdata/music/songsterr/lorna-shore/Lorna Shore - Warpath of Disease (533129).mid', 6), ('../../../ai/trainingdata/music/songsterr/lorna-shore/Lorna Shore - FVNERAL MOON (correct version) (392312).mid', 6), ('../../../ai/trainingdata/music/songsterr/lorna-shore/Lorna Shore - Immortal (540701).mid', 5), ('../../../ai/trainingdata/music/songsterr/lorna-shore/Lorna Shore - Soulless Existence (6 string) (551650).mid', 5), ('../../../ai/trainingdata/music/songsterr/lorna-shore/Lorna Shore - Pain Remains I- Dancing Like Flames (Solo) (515803).mid', 5), ('../../../ai/trainingdata/music/songsterr/lorna-shore/Lorna Shore - King Ov Deception (Intro) (538418).mid', 5), ('../../../ai/trainingdata/music/songsterr/lorna-shore/Lorna Shore - Death Portrait (521717).mid', 5), ('../../../ai/trainingdata/music/songsterr/lorna-shore/Lorna Shore - Sun--Eater (First Breakdown) (498390).mid', 5), ('../../../ai/trainingdata/music/songsterr/lorna-shore/Lorna Shore - Denounce The Light (392389).mid', 5), ('../../../ai/trainingdata/music/songsterr/lorna-shore/Lorna Shore - Second Skin (577587).mid', 5), ('../../../ai/trainingdata/music/songsterr/lorna-shore/Lorna Shore - Obsession (478622).mid', 5), ('../../../ai/trainingdata/music/songsterr/lorna-shore/Lorna Shore - Wrath (Solo) (524568).mid', 4), ('../../../ai/trainingdata/music/songsterr/lorna-shore/Lorna Shore - Of the Abyss (Live at Summer Breeze 2022) (551945).mid', 4), ('../../../ai/trainingdata/music/songsterr/lorna-shore/Lorna Shore - Relentless Torment (522934).mid', 4), ('../../../ai/trainingdata/music/songsterr/lorna-shore/Lorna Shore - To The Hellfire Chorus (Simplified) (517223).mid', 4), ('../../../ai/trainingdata/music/songsterr/lorna-shore/Lorna Shore - Hollow Sentence (555081).mid', 4), ('../../../ai/trainingdata/music/songsterr/lorna-shore/Lorna Shore - A71 (577589).mid', 4), ('../../../ai/trainingdata/music/songsterr/lorna-shore/Lorna Shore - Misery System (491007).mid', 4), ('../../../ai/trainingdata/music/songsterr/lorna-shore/Lorna Shore - Cursed To Die (Lead) [Drop A] (519834).mid', 2), ('../../../ai/trainingdata/music/songsterr/lorna-shore/Lorna Shore - Wrath (543012).mid', 2), (\"../../../ai/trainingdata/music/songsterr/lorna-shore/Lorna Shore - Welcome Back, O' Sleeping Dreamer (540353).mid\", 2), ('../../../ai/trainingdata/music/songsterr/lorna-shore/Lorna Shore - Pain Remains III In A Sea Of Fire Solo (530683).mid', 2), ('../../../ai/trainingdata/music/songsterr/lorna-shore/Lorna Shore - pain remains II (593763).mid', 2), ('../../../ai/trainingdata/music/songsterr/lorna-shore/Lorna Shore - To The Hellfire (Intro Lead) [E Standard] (521407).mid', 2), ('../../../ai/trainingdata/music/songsterr/lorna-shore/Lorna Shore - To The Hellfire Solo (6 String) (513231).mid', 1), ('../../../ai/trainingdata/music/songsterr/lorna-shore/Lorna Shore - Pain Remains I- Dancing Like Flames (Rhythm Guitar) [Easier] (523103).mid', 1), ('../../../ai/trainingdata/music/songsterr/lorna-shore/Lorna Shore - King Ov Deception (Drums) (545066).mid', 1), ('../../../ai/trainingdata/music/songsterr/lorna-shore/Lorna Shore - FVNERAL MOON (332607).mid', 1)]\n"
     ]
    }
   ],
   "source": [
    "partscount = {}\n",
    "partnames = {}\n",
    "instruments = {}\n",
    "scorepartcounts = {}\n",
    "\n",
    "for i, song in enumerate(dataset.songs):\n",
    "    parts = song.getParts()\n",
    "    partscount[len(parts)] = partscount.get(len(parts), 0) + 1\n",
    "    scorepartcounts[song.filePath] = len(parts)\n",
    "\n",
    "    # instrument.partitionByInstrument(song.score)\n",
    "    # print(song.score.getInstruments())\n",
    "\n",
    "    for part in parts:\n",
    "        partnames[part.partName] = partnames.get(part.partName, 0) + 1\n",
    "        partinstrument = part.getInstruments()[-1]\n",
    "        # print(part.getInstruments()[-1].instrumentName)\n",
    "        # print(part.getInstruments()[-1].midiProgram)\n",
    "        # print(part.getInstruments()[-1].midiChannel)\n",
    "        instruments[partinstrument.instrumentName] = instruments.get(partinstrument.instrumentName, 0) + 1\n",
    "\n",
    "# Analysis of number of scores with different number of parts\n",
    "print(\"Part counts\")\n",
    "print(partscount)\n",
    "# List unique part names\n",
    "print(\"Part names\")\n",
    "print(partnames)\n",
    "# List unique instrument names\n",
    "print(\"Instrument names\")\n",
    "print(instruments)\n",
    "# List scores with number of parts\n",
    "print(\"Score part counts\")\n",
    "print(sorted(scorepartcounts.items(), key=lambda x: x[1], reverse=True))"
   ]
  },
  {
   "attachments": {},
   "cell_type": "markdown",
   "metadata": {},
   "source": [
    "## Time Signatures"
   ]
  },
  {
   "attachments": {},
   "cell_type": "markdown",
   "metadata": {},
   "source": [
    "Count number of scores which use each time signature"
   ]
  },
  {
   "cell_type": "code",
   "execution_count": 5,
   "metadata": {},
   "outputs": [
    {
     "name": "stdout",
     "output_type": "stream",
     "text": [
      "18 songs in 4/4 time\n"
     ]
    }
   ],
   "source": [
    "timesigs = dataset.splitByTimeSignature()\n",
    "\n",
    "for timesig in timesigs:\n",
    "    print(f'{len(timesigs[timesig].songs)} songs in {timesig} time')\n",
    "\n",
    "# print(timesigs['3/4'].songs[0].filePath)"
   ]
  },
  {
   "cell_type": "code",
   "execution_count": 6,
   "metadata": {},
   "outputs": [
    {
     "name": "stdout",
     "output_type": "stream",
     "text": [
      "{'4/4': 18}\n",
      "[('../../../ai/trainingdata/music/songsterr/lorna-shore/Lorna Shore - Pain Remains III- In a Sea of Fire (555725).mid', 18)]\n"
     ]
    }
   ],
   "source": [
    "# time signatures are usually stored within the measures object and can change mid score\n",
    "timesigscount = dict()\n",
    "scoretimesigscount = dict()\n",
    "\n",
    "for i, song in enumerate(dataset.songs):\n",
    "    timesigs = song.score.recurse().getElementsByClass(meter.TimeSignature)\n",
    "    scoretimesigscount[song.filePath] = len(timesigs)\n",
    "\n",
    "    for timesig in timesigs:\n",
    "        timsiglabel = f'{timesig.numerator}/{timesig.denominator}'\n",
    "        timesigscount[timsiglabel] = timesigscount.get(timsiglabel, 0) + 1\n",
    "\n",
    "print(timesigscount)\n",
    "print(sorted(scoretimesigscount.items(), key=lambda x: x[1], reverse=True))"
   ]
  },
  {
   "attachments": {},
   "cell_type": "markdown",
   "metadata": {},
   "source": [
    "## Notes Used"
   ]
  },
  {
   "cell_type": "code",
   "execution_count": 22,
   "metadata": {},
   "outputs": [
    {
     "name": "stdout",
     "output_type": "stream",
     "text": [
      "{36: 1969, 42: 147, 38: 1499, 46: 489, 47: 235, 50: 14, 41: 22, 51: 1126, 43: 363, 45: 301, 49: 452, 40: 58, 53: 8}\n"
     ]
    }
   ],
   "source": [
    "from xen.codecs.NoteSequenceSparseCodec import NoteSequenceSparseCodec\n",
    "\n",
    "notecounts = {}\n",
    "\n",
    "for song in dataset.songs:\n",
    "    songnotecounts = {}\n",
    "    for part in song.getParts():\n",
    "        for element in part.recurse().notes:\n",
    "            if element.isNote:\n",
    "                midi = element.pitch.midi\n",
    "                notecounts[midi] = notecounts.get(midi, 0) + 1\n",
    "                songnotecounts[midi] = songnotecounts.get(midi, 0) + 1\n",
    "            if element.isChord:\n",
    "                for note in element.notes:\n",
    "                    midi = note.pitch.midi\n",
    "                    notecounts[midi] = notecounts.get(midi, 0) + 1\n",
    "                    songnotecounts[midi] = songnotecounts.get(midi, 0) + 1\n",
    "    # print(song.filePath)\n",
    "    # print(songnotecounts)\n",
    "    \n",
    "print((notecounts))\n"
   ]
  }
 ],
 "metadata": {
  "kernelspec": {
   "display_name": "Python 3.8.9 64-bit",
   "language": "python",
   "name": "python3"
  },
  "language_info": {
   "codemirror_mode": {
    "name": "ipython",
    "version": 3
   },
   "file_extension": ".py",
   "mimetype": "text/x-python",
   "name": "python",
   "nbconvert_exporter": "python",
   "pygments_lexer": "ipython3",
   "version": "3.11.3"
  },
  "vscode": {
   "interpreter": {
    "hash": "31f2aee4e71d21fbe5cf8b01ff0e069b9275f58929596ceb00d14d90e3e16cd6"
   }
  }
 },
 "nbformat": 4,
 "nbformat_minor": 2
}
