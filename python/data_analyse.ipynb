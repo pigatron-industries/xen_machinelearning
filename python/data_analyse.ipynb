{
 "cells": [
  {
   "cell_type": "markdown",
   "metadata": {},
   "source": [
    "Load scores"
   ]
  },
  {
   "cell_type": "code",
   "execution_count": null,
   "metadata": {},
   "outputs": [],
   "source": [
    "import os\n",
    "import numpy as np\n",
    "from music21 import converter, pitch, interval, instrument, note, stream, meter\n",
    "from matplotlib import pyplot as plt\n",
    "\n",
    "from xen.visualise import plotPart\n",
    "from xen.data import SequenceDataSet\n",
    "\n",
    "data_dir = \"../data/mutopia_guitar\"\n",
    "\n",
    "dataset = SequenceDataSet()\n",
    "dataset.loadMidiDir(data_dir)\n",
    "\n",
    "print(f'Loaded {len(dataset.songs)} songs') "
   ]
  },
  {
   "cell_type": "markdown",
   "metadata": {},
   "source": [
    "## Filter"
   ]
  },
  {
   "cell_type": "code",
   "execution_count": null,
   "metadata": {},
   "outputs": [],
   "source": [
    "dataset.filterTimeSig((4,4))\n",
    "\n",
    "print(f'{len(dataset.songs)} songs after filtering')"
   ]
  },
  {
   "cell_type": "code",
   "execution_count": null,
   "metadata": {},
   "outputs": [],
   "source": [
    "partscount = dict()\n",
    "partnames = dict()\n",
    "scorepartcounts = dict()\n",
    "\n",
    "for i, song in enumerate(dataset.songs):\n",
    "    parts = song.getParts()\n",
    "    partscount[len(parts)] = partscount.get(len(parts), 0) + 1\n",
    "    scorepartcounts[song.score.filePath] = len(parts)\n",
    "    for part in parts:\n",
    "        partnames[part.partName] = partnames.get(part.partName, 0) + 1\n",
    "\n",
    "print(partscount)\n",
    "print(partnames)\n",
    "print(sorted(scorepartcounts.items(), key=lambda x: x[1], reverse=True))"
   ]
  },
  {
   "cell_type": "markdown",
   "metadata": {},
   "source": [
    "## Time Signatures"
   ]
  },
  {
   "cell_type": "markdown",
   "metadata": {},
   "source": [
    "Count number of scores which use each time signature"
   ]
  },
  {
   "cell_type": "code",
   "execution_count": null,
   "metadata": {},
   "outputs": [],
   "source": [
    "# time signatures are usually stored within the measures object and can change mid score\n",
    "timesigscount = dict()\n",
    "scoretimesigscount = dict()\n",
    "\n",
    "for i, song in enumerate(dataset.songs):\n",
    "    timesigs = song.score.recurse().getElementsByClass(meter.TimeSignature)\n",
    "    scoretimesigscount[song.score.filePath] = len(timesigs)\n",
    "\n",
    "    for timesig in timesigs:\n",
    "        timsiglabel = f'{timesig.numerator}/{timesig.denominator}'\n",
    "        timesigscount[timsiglabel] = timesigscount.get(timsiglabel, 0) + 1\n",
    "\n",
    "print(timesigscount)\n",
    "# print(sorted(scoretimesigscount.items(), key=lambda x: x[1], reverse=True))"
   ]
  }
 ],
 "metadata": {
  "kernelspec": {
   "display_name": "Python 3.9.13 64-bit",
   "language": "python",
   "name": "python3"
  },
  "language_info": {
   "codemirror_mode": {
    "name": "ipython",
    "version": 3
   },
   "file_extension": ".py",
   "mimetype": "text/x-python",
   "name": "python",
   "nbconvert_exporter": "python",
   "pygments_lexer": "ipython3",
   "version": "3.9.13"
  },
  "vscode": {
   "interpreter": {
    "hash": "aee8b7b246df8f9039afb4144a1f6fd8d2ca17a180786b69acc140d282b71a49"
   }
  }
 },
 "nbformat": 4,
 "nbformat_minor": 2
}
