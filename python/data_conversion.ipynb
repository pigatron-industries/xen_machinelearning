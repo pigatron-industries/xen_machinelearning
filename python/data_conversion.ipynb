{
 "cells": [
  {
   "cell_type": "code",
   "execution_count": 40,
   "metadata": {},
   "outputs": [],
   "source": [
    "import os\n",
    "import numpy as np\n",
    "from music21 import converter, pitch, interval, instrument, note, stream, meter\n",
    "from matplotlib import pyplot as plt\n",
    "import shutil\n",
    "\n",
    "from xen.data.SongData import SongDataSet"
   ]
  },
  {
   "cell_type": "markdown",
   "metadata": {},
   "source": [
    "For percussion files that don't have an instrument set, add percussion instrument and update to use midi channel 9"
   ]
  },
  {
   "cell_type": "code",
   "execution_count": null,
   "metadata": {},
   "outputs": [],
   "source": [
    "paths = [\"../../../ai/trainingdata/music/800000_Drum_Percussion_MIDI_Archive/50's Drummer MIDI Files/01 Rock'n'Roll/01 Dancin Rick 166BPM\"]\n",
    "\n",
    "dataset = SongDataSet.fromMidiPaths(paths, recursive=False)\n",
    "\n",
    "for i, song in enumerate(dataset.songs):\n",
    "    score = song.score\n",
    "    for part in song.getParts():\n",
    "        if (part.getInstruments()[0].instrumentName is None):\n",
    "            print(f'Insert intrument: {song.filePath}')\n",
    "            # shutil.copyfile(song.filePath, song.filePath + '.bak')\n",
    "            perc = instrument.Percussion()\n",
    "            perc.midiChannel = 9\n",
    "            perc.midiProgram = 0\n",
    "            part.insert(0, perc)\n",
    "    score.write('midi', song.filePath)\n",
    "\n"
   ]
  }
 ],
 "metadata": {
  "kernelspec": {
   "display_name": "tf",
   "language": "python",
   "name": "python3"
  },
  "language_info": {
   "codemirror_mode": {
    "name": "ipython",
    "version": 3
   },
   "file_extension": ".py",
   "mimetype": "text/x-python",
   "name": "python",
   "nbconvert_exporter": "python",
   "pygments_lexer": "ipython3",
   "version": "3.11.3"
  },
  "orig_nbformat": 4
 },
 "nbformat": 4,
 "nbformat_minor": 2
}
