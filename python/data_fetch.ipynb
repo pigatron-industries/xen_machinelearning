{
 "cells": [
  {
   "cell_type": "code",
   "execution_count": 2,
   "metadata": {},
   "outputs": [],
   "source": [
    "from urllib.request import urlopen, urlretrieve\n",
    "from urllib.parse import urlparse\n",
    "from bs4 import BeautifulSoup\n",
    "from xml.etree import ElementTree\n",
    "import time"
   ]
  },
  {
   "cell_type": "markdown",
   "metadata": {},
   "source": [
    "### mutopia\n",
    "Scrape mutopia website for mid files in given categories\n",
    "\n",
    "http://eremita.di.uminho.pt/mutopia/"
   ]
  },
  {
   "cell_type": "code",
   "execution_count": null,
   "metadata": {},
   "outputs": [],
   "source": [
    "instrument = \"Guitar\"\n",
    "composer = \"\"\n",
    "style = \"\"\n",
    "\n",
    "save_dir = \"../data/mutopia_guitar\"\n",
    "%mkdir {save_dir}\n",
    "\n",
    "url0 = 'http://eremita.di.uminho.pt/mutopia/cgibin/make-table.cgi?startat='\n",
    "url1 = f'&searchingfor=&Composer={composer}&Instrument={instrument}&Style={style}&collection=&id=&solo=&recent=&timelength=&timeunit=&lilyversion=&preview='\n",
    "\n",
    "songNumber = 0\n",
    "linkCount = 10\n",
    "\n",
    "while linkCount > 0:\n",
    "    url = url0 + str(songNumber) + url1\n",
    "    html = urlopen(url)\n",
    "    soup = BeautifulSoup(html.read())\n",
    "    links = soup.find_all('a')\n",
    "    linkCount = 0\n",
    "    for link in links:\n",
    "        href = link['href']\n",
    "        if href.find('.mid') >= 0 or href.find('mids.zip') >= 0:\n",
    "            linkCount = linkCount + 1\n",
    "            filename = href.split(\"/\")[-1]\n",
    "            urlretrieve(href, f'{save_dir}/{filename}')\n",
    "            songNumber += 1\n",
    "    time.sleep(10.0)"
   ]
  },
  {
   "cell_type": "markdown",
   "metadata": {},
   "source": [
    "### Songsterr"
   ]
  },
  {
   "cell_type": "code",
   "execution_count": 16,
   "metadata": {},
   "outputs": [
    {
     "name": "stdout",
     "output_type": "stream",
     "text": [
      "mkdir: ../../../ai/trainingdata/music/songsterr/portishead: File exists\n",
      "Found 31 songs for artist Portishead\n",
      "Downloading song Portishead - Wandering Stars (s10152 r12825).gp4\n",
      "Downloading song Portishead - Mysterons (s10153 r597484).gp\n",
      "Downloading song Portishead - Over (s10154 r12827).gp4\n",
      "Downloading song Portishead - Glory Box (s10155 r565530).gp5\n",
      "Downloading song Portishead - Roads (s22615 r30942).gp4\n",
      "Downloading song Portishead - Sour Times (s23098 r31465).gp4\n",
      "Downloading song Portishead - The Rip (s50772 r531771).gp\n",
      "Downloading song Portishead - Mysterions (s50773 r65752).gp3\n",
      "Downloading song Portishead - Machine Gun (s50774 r65753).gp5\n",
      "Downloading song Portishead - The Rip Ver2 (s428654 r320726).gp5\n"
     ]
    }
   ],
   "source": [
    "import requests\n",
    "\n",
    "artist = \"Portishead\"\n",
    "save_dir = \"../../../ai/trainingdata/music/songsterr/portishead\"\n",
    "%mkdir {save_dir}\n",
    "\n",
    "artist_search_url = f'https://www.songsterr.com/a/ra/songs/byartists.xml?artists=\"{artist}\"'\n",
    "artist_search_response = requests.get(artist_search_url)\n",
    "root = ElementTree.fromstring(artist_search_response.content)\n",
    "song_tags = root.findall(\"./Song\")\n",
    "\n",
    "print(f'Found {len(song_tags)} songs for artist {artist}')\n",
    "\n",
    "for song_tag in song_tags:\n",
    "    song_id = song_tag.get(\"id\")\n",
    "    song_title = song_tag.find(\"./title\").text.replace(\"/\", \"-\").replace(\":\", \"-\")\n",
    "    revisions_url = f'https://www.songsterr.com/api/meta/{song_id}/revisions'\n",
    "    revisions_response = requests.get(revisions_url)\n",
    "    revisions = revisions_response.json()\n",
    "    if(isinstance(revisions, list) and len(revisions) > 0):\n",
    "        latest_revision = revisions[0]\n",
    "        revision_id = latest_revision[\"revisionId\"]\n",
    "        song_url = latest_revision[\"source\"]\n",
    "        extension = song_url.split(\".\")[-1]\n",
    "        filename = f'{artist} - {song_title} (s{song_id} r{revision_id}).{extension}'\n",
    "        print(f'Downloading song {filename}')\n",
    "        urlretrieve(song_url, f'{save_dir}/{filename}')\n",
    "    \n"
   ]
  }
 ],
 "metadata": {
  "kernelspec": {
   "display_name": "Python 3.9.13 64-bit",
   "language": "python",
   "name": "python3"
  },
  "language_info": {
   "codemirror_mode": {
    "name": "ipython",
    "version": 3
   },
   "file_extension": ".py",
   "mimetype": "text/x-python",
   "name": "python",
   "nbconvert_exporter": "python",
   "pygments_lexer": "ipython3",
   "version": "3.11.3"
  },
  "vscode": {
   "interpreter": {
    "hash": "aee8b7b246df8f9039afb4144a1f6fd8d2ca17a180786b69acc140d282b71a49"
   }
  }
 },
 "nbformat": 4,
 "nbformat_minor": 2
}
