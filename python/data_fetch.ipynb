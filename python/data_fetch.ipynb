{
 "cells": [
  {
   "cell_type": "code",
   "execution_count": 2,
   "metadata": {},
   "outputs": [],
   "source": [
    "from urllib.request import urlopen, urlretrieve\n",
    "from urllib.parse import urlparse\n",
    "from bs4 import BeautifulSoup\n",
    "from xml.etree import ElementTree\n",
    "import time"
   ]
  },
  {
   "cell_type": "markdown",
   "metadata": {},
   "source": [
    "### mutopia\n",
    "Scrape mutopia website for mid files in given categories\n",
    "\n",
    "http://eremita.di.uminho.pt/mutopia/"
   ]
  },
  {
   "cell_type": "code",
   "execution_count": null,
   "metadata": {},
   "outputs": [],
   "source": [
    "instrument = \"Guitar\"\n",
    "composer = \"\"\n",
    "style = \"\"\n",
    "\n",
    "save_dir = \"../data/mutopia_guitar\"\n",
    "%mkdir {save_dir}\n",
    "\n",
    "url0 = 'http://eremita.di.uminho.pt/mutopia/cgibin/make-table.cgi?startat='\n",
    "url1 = f'&searchingfor=&Composer={composer}&Instrument={instrument}&Style={style}&collection=&id=&solo=&recent=&timelength=&timeunit=&lilyversion=&preview='\n",
    "\n",
    "songNumber = 0\n",
    "linkCount = 10\n",
    "\n",
    "while linkCount > 0:\n",
    "    url = url0 + str(songNumber) + url1\n",
    "    html = urlopen(url)\n",
    "    soup = BeautifulSoup(html.read())\n",
    "    links = soup.find_all('a')\n",
    "    linkCount = 0\n",
    "    for link in links:\n",
    "        href = link['href']\n",
    "        if href.find('.mid') >= 0 or href.find('mids.zip') >= 0:\n",
    "            linkCount = linkCount + 1\n",
    "            filename = href.split(\"/\")[-1]\n",
    "            urlretrieve(href, f'{save_dir}/{filename}')\n",
    "            songNumber += 1\n",
    "    time.sleep(10.0)"
   ]
  },
  {
   "cell_type": "markdown",
   "metadata": {},
   "source": [
    "### Songsterr"
   ]
  },
  {
   "cell_type": "code",
   "execution_count": 14,
   "metadata": {},
   "outputs": [
    {
     "name": "stdout",
     "output_type": "stream",
     "text": [
      "mkdir: ../../../ai/trainingdata/music/songsterr/portishead: File exists\n",
      "Found 31 songs for artist Portishead\n",
      "[{'revisionId': 12825, 'songId': 10152, 'description': 'Initial revision', 'createdAt': '2009-01-03T16:56:32.000Z', 'source': 'https://d12drcwhcokzqv.cloudfront.net/3621366.gp4', 'personId': 703, 'person': 'ruvik', 'title': 'Wandering Stars', 'artist': 'Portishead', 'tracksCount': 3, 'reports': [], 'commentsCount': 0}]\n",
      "Downloading song Portishead - Wandering Stars (s10152 r12825).gp4\n",
      "[{'revisionId': 597484, 'songId': 10153, 'description': 'Added bars\\r\\n(via editor)', 'createdAt': '2023-07-24T18:31:24.000Z', 'source': 'https://d12drcwhcokzqv.cloudfront.net/58406991.gp', 'personId': 2560173, 'person': 'Olena', 'title': 'Mysterons', 'artist': 'Portishead', 'tracksCount': 2, 'reports': [], 'commentsCount': 0}, {'revisionId': 12826, 'songId': 10153, 'description': 'Initial revision', 'createdAt': '2009-01-03T17:00:11.000Z', 'source': 'https://d12drcwhcokzqv.cloudfront.net/3621367.gp4', 'personId': 703, 'person': 'ruvik', 'title': 'Mysterons', 'artist': 'Portishead', 'tracksCount': 2, 'reports': [], 'commentsCount': 0}]\n",
      "Downloading song Portishead - Mysterons (s10153 r597484).gp\n",
      "[{'revisionId': 12827, 'songId': 10154, 'description': 'Initial revision', 'createdAt': '2009-01-03T17:06:37.000Z', 'source': 'https://d12drcwhcokzqv.cloudfront.net/3621368.gp4', 'personId': 703, 'person': 'ruvik', 'title': 'Over', 'artist': 'Portishead', 'tracksCount': 2, 'reports': [], 'commentsCount': 0}]\n",
      "Downloading song Portishead - Over (s10154 r12827).gp4\n",
      "[{'revisionId': 565530, 'songId': 10155, 'description': 'Completely redone the bass and drums', 'createdAt': '2023-04-22T23:40:46.000Z', 'source': 'https://d12drcwhcokzqv.cloudfront.net/56594600.gp5', 'personId': 2074996, 'person': 'Anish Gautam', 'title': 'Glory Box', 'artist': 'Portishead', 'tracksCount': 9, 'reports': [], 'commentsCount': 0}, {'revisionId': 452119, 'songId': 10155, 'description': 'Best song', 'createdAt': '2021-08-02T10:09:31.000Z', 'source': 'https://d12drcwhcokzqv.cloudfront.net/46504914.gp5', 'personId': 1378617, 'person': 'brian', 'title': 'Glory Box', 'artist': 'Portishead', 'tracksCount': 9, 'reports': [], 'commentsCount': 0}, {'revisionId': 449190, 'songId': 10155, 'description': 'best song', 'createdAt': '2021-07-07T20:58:30.000Z', 'source': 'https://d12drcwhcokzqv.cloudfront.net/46230095.gp5', 'personId': 2198586, 'person': 'Anaïs Macé', 'title': 'Glory Box', 'artist': 'Portishead', 'tracksCount': 10, 'reports': [], 'commentsCount': 0}, {'revisionId': 12828, 'songId': 10155, 'description': 'Initial revision', 'createdAt': '2009-01-03T17:08:17.000Z', 'source': 'https://d12drcwhcokzqv.cloudfront.net/3621369.gp4', 'personId': 703, 'person': 'ruvik', 'title': 'Glory Box', 'artist': 'Portishead', 'tracksCount': 5, 'reports': [], 'commentsCount': 0}]\n",
      "Downloading song Portishead - Glory Box (s10155 r565530).gp5\n",
      "[{'revisionId': 30942, 'songId': 22615, 'description': 'Initial revision', 'createdAt': '2009-03-02T10:44:32.000Z', 'source': 'https://d12drcwhcokzqv.cloudfront.net/3638691.gp4', 'personId': 703, 'person': 'ruvik', 'title': 'Roads', 'artist': 'Portishead', 'tracksCount': 7, 'reports': [], 'commentsCount': 0}]\n",
      "Downloading song Portishead - Roads (s22615 r30942).gp4\n",
      "[{'revisionId': 31465, 'songId': 23098, 'description': 'Initial revision', 'createdAt': '2009-03-23T12:37:34.000Z', 'source': 'https://d12drcwhcokzqv.cloudfront.net/3639300.gp4', 'personId': 703, 'person': 'ruvik', 'title': 'Sour Times', 'artist': 'Portishead', 'tracksCount': 8, 'reports': [], 'commentsCount': 0}]\n",
      "Downloading song Portishead - Sour Times (s23098 r31465).gp4\n",
      "[{'revisionId': 531771, 'songId': 50772, 'description': 'Merged edits', 'createdAt': '2022-12-15T08:44:13.660Z', 'source': 'https://d12drcwhcokzqv.cloudfront.net/53984994.gp', 'personId': 2492933, 'person': 'Alex Vasiliev', 'title': 'The Rip', 'artist': 'Portishead', 'tracksCount': 7, 'reports': [], 'commentsCount': 0}, {'revisionId': 65751, 'songId': 50772, 'description': 'Initial revision', 'createdAt': '2010-01-01T16:59:49.000Z', 'source': 'https://d12drcwhcokzqv.cloudfront.net/3667809.gp4', 'personId': 145787, 'person': 'Leonard', 'title': 'The Rip', 'artist': 'Portishead', 'tracksCount': 7, 'reports': [], 'commentsCount': 0}]\n",
      "Downloading song Portishead - The Rip (s50772 r531771).gp\n",
      "[{'revisionId': 65752, 'songId': 50773, 'description': 'Initial revision', 'createdAt': '2010-01-01T16:59:52.000Z', 'source': 'https://d12drcwhcokzqv.cloudfront.net/3667810.gp3', 'personId': 145787, 'person': 'Leonard', 'title': 'Mysterions', 'artist': 'Portishead', 'tracksCount': 2, 'reports': [], 'commentsCount': 0}]\n",
      "Downloading song Portishead - Mysterions (s50773 r65752).gp3\n",
      "[{'revisionId': 65753, 'songId': 50774, 'description': 'Initial revision', 'createdAt': '2010-01-01T16:59:55.000Z', 'source': 'https://d12drcwhcokzqv.cloudfront.net/3667811.gp5', 'personId': 145787, 'person': 'Leonard', 'title': 'Machine Gun', 'artist': 'Portishead', 'tracksCount': 7, 'reports': [], 'commentsCount': 0}]\n",
      "Downloading song Portishead - Machine Gun (s50774 r65753).gp5\n",
      "{'error': 'Revisions not found.'}\n"
     ]
    },
    {
     "ename": "KeyError",
     "evalue": "0",
     "output_type": "error",
     "traceback": [
      "\u001b[0;31m---------------------------------------------------------------------------\u001b[0m",
      "\u001b[0;31mKeyError\u001b[0m                                  Traceback (most recent call last)",
      "Cell \u001b[0;32mIn[14], line 22\u001b[0m\n\u001b[1;32m     20\u001b[0m \u001b[39mprint\u001b[39m(revisions)\n\u001b[1;32m     21\u001b[0m \u001b[39mif\u001b[39;00m(\u001b[39mlen\u001b[39m(revisions) \u001b[39m>\u001b[39m \u001b[39m0\u001b[39m):\n\u001b[0;32m---> 22\u001b[0m     latest_revision \u001b[39m=\u001b[39m revisions[\u001b[39m0\u001b[39;49m]\n\u001b[1;32m     23\u001b[0m     revision_id \u001b[39m=\u001b[39m latest_revision[\u001b[39m\"\u001b[39m\u001b[39mrevisionId\u001b[39m\u001b[39m\"\u001b[39m]\n\u001b[1;32m     24\u001b[0m     song_url \u001b[39m=\u001b[39m latest_revision[\u001b[39m\"\u001b[39m\u001b[39msource\u001b[39m\u001b[39m\"\u001b[39m]\n",
      "\u001b[0;31mKeyError\u001b[0m: 0"
     ]
    }
   ],
   "source": [
    "import requests\n",
    "\n",
    "artist = \"Portishead\"\n",
    "save_dir = \"../../../ai/trainingdata/music/songsterr/portishead\"\n",
    "%mkdir {save_dir}\n",
    "\n",
    "artist_search_url = f'https://www.songsterr.com/a/ra/songs/byartists.xml?artists=\"{artist}\"'\n",
    "artist_search_response = requests.get(artist_search_url)\n",
    "root = ElementTree.fromstring(artist_search_response.content)\n",
    "song_tags = root.findall(\"./Song\")\n",
    "\n",
    "print(f'Found {len(song_tags)} songs for artist {artist}')\n",
    "\n",
    "for song_tag in song_tags:\n",
    "    song_id = song_tag.get(\"id\")\n",
    "    song_title = song_tag.find(\"./title\").text.replace(\"/\", \"-\").replace(\":\", \"-\")\n",
    "    revisions_url = f'https://www.songsterr.com/api/meta/{song_id}/revisions'\n",
    "    revisions_response = requests.get(revisions_url)\n",
    "    revisions = revisions_response.json()\n",
    "    if(isinstance(revisions, list) and len(revisions) > 0):\n",
    "        latest_revision = revisions[0]\n",
    "        revision_id = latest_revision[\"revisionId\"]\n",
    "        song_url = latest_revision[\"source\"]\n",
    "        extension = song_url.split(\".\")[-1]\n",
    "        filename = f'{artist} - {song_title} (s{song_id} r{revision_id}).{extension}'\n",
    "        print(f'Downloading song {filename}')\n",
    "        urlretrieve(song_url, f'{save_dir}/{filename}')\n",
    "    \n"
   ]
  }
 ],
 "metadata": {
  "kernelspec": {
   "display_name": "Python 3.9.13 64-bit",
   "language": "python",
   "name": "python3"
  },
  "language_info": {
   "codemirror_mode": {
    "name": "ipython",
    "version": 3
   },
   "file_extension": ".py",
   "mimetype": "text/x-python",
   "name": "python",
   "nbconvert_exporter": "python",
   "pygments_lexer": "ipython3",
   "version": "3.11.3"
  },
  "vscode": {
   "interpreter": {
    "hash": "aee8b7b246df8f9039afb4144a1f6fd8d2ca17a180786b69acc140d282b71a49"
   }
  }
 },
 "nbformat": 4,
 "nbformat_minor": 2
}
