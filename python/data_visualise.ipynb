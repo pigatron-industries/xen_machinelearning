{
 "cells": [
  {
   "cell_type": "code",
   "execution_count": null,
   "metadata": {},
   "outputs": [],
   "source": [
    "%pip install music21"
   ]
  },
  {
   "cell_type": "code",
   "execution_count": null,
   "metadata": {},
   "outputs": [],
   "source": [
    "import os\n",
    "from music21 import converter, pitch, interval, instrument, note, stream, meter\n",
    "from matplotlib import pyplot as plt\n",
    "\n",
    "from xen.data import SequenceDataSet\n",
    "from xen.visualise import plotPart, plotMeasures, plotSequence\n",
    "\n",
    "data_dir = \"../../../ml_data/mutopia_guitar/\"\n",
    "# data_file = \"CarcassiMethodPreludes.mid\"\n",
    "data_file = \"Matiegka3.mid\"\n",
    "\n",
    "dataset = SequenceDataSet()\n",
    "dataset.loadMidiFiles([data_dir + data_file])\n",
    "\n",
    "print(f'Loaded {len(dataset.songs)} Songs') "
   ]
  },
  {
   "cell_type": "code",
   "execution_count": null,
   "metadata": {},
   "outputs": [],
   "source": [
    "for i, song in enumerate(dataset.songs):\n",
    "    for part in song.score.getElementsByClass(stream.Part):\n",
    "        # part = part.chordify()\n",
    "        print(f'Length: {part.duration.quarterLength}')\n",
    "        plotPart(part)\n",
    "\n",
    "# scores[0].show()"
   ]
  },
  {
   "cell_type": "code",
   "execution_count": null,
   "metadata": {},
   "outputs": [],
   "source": [
    "for i, song in enumerate(dataset.songs):\n",
    "    for part in song.score.getElementsByClass(stream.Part):\n",
    "        measures = part.getElementsByClass(stream.Measure)\n",
    "        \n",
    "        plotMeasures(measures[0:4])\n",
    "        "
   ]
  },
  {
   "cell_type": "code",
   "execution_count": null,
   "metadata": {},
   "outputs": [],
   "source": [
    "measuresPerSequence = 4\n",
    "ticksPerQuarter = 4 # 4 = 16th notes, 12 = 16th notes + triplets\n",
    "\n",
    "sequences, _, _ = dataset.makeSequences(ticksPerQuarter, measuresPerSequence, '4/4')\n",
    "print(sequences.shape)\n",
    "\n",
    "plotSequence(sequences[0])"
   ]
  },
  {
   "cell_type": "code",
   "execution_count": null,
   "metadata": {},
   "outputs": [],
   "source": []
  }
 ],
 "metadata": {
  "kernelspec": {
   "display_name": "Python 3.8.9 64-bit",
   "language": "python",
   "name": "python3"
  },
  "language_info": {
   "codemirror_mode": {
    "name": "ipython",
    "version": 3
   },
   "file_extension": ".py",
   "mimetype": "text/x-python",
   "name": "python",
   "nbconvert_exporter": "python",
   "pygments_lexer": "ipython3",
   "version": "3.8.9"
  },
  "vscode": {
   "interpreter": {
    "hash": "31f2aee4e71d21fbe5cf8b01ff0e069b9275f58929596ceb00d14d90e3e16cd6"
   }
  }
 },
 "nbformat": 4,
 "nbformat_minor": 2
}
