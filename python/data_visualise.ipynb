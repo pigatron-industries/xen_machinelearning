{
 "cells": [
  {
   "cell_type": "code",
   "execution_count": null,
   "metadata": {},
   "outputs": [],
   "source": [
    "%pip install music21"
   ]
  },
  {
   "cell_type": "code",
   "execution_count": null,
   "metadata": {},
   "outputs": [],
   "source": [
    "import os\n",
    "from music21 import converter, pitch, interval, instrument, note, stream, meter\n",
    "from matplotlib import pyplot as plt\n",
    "\n",
    "from xen.data.SongData import SongDataSet\n",
    "from xen.data.Filter import NameFilter, SongDataFilter\n",
    "from xen.codecs.NoteSequenceSparseCodec import NoteSequenceSparseCodec\n",
    "from xen.codecs.NoteSequenceFlatCodec import NoteSequenceFlatCodec\n",
    "from xen.visualise import plotPart, plotMeasures, plotSparseNoteSequence\n",
    "\n",
    "paths = [\"../../../ai/trainingdata/music/800000_Drum_Percussion_MIDI_Archive/Superior Drummer 2 Drum Midi/00201@BREAKS & SWINGBEATS VOL1/DEMOSTRT.MID\"]\n",
    "\n",
    "dataset = SongDataSet.fromMidiPaths(paths, recursive=False)\n",
    "\n",
    "# print(f'Loaded {len(dataset.songs)} Songs') "
   ]
  },
  {
   "cell_type": "code",
   "execution_count": null,
   "metadata": {},
   "outputs": [],
   "source": [
    "for part in dataset.songs[0].getPartsByInstruments(NameFilter(include=[\"Percussion\"])):\n",
    "    # part = part.chordify()\n",
    "    print(f'Length: {part.duration.quarterLength}')\n",
    "    plotPart(part)\n"
   ]
  },
  {
   "cell_type": "code",
   "execution_count": null,
   "metadata": {},
   "outputs": [],
   "source": [
    "for part in dataset.songs[0].getPartsByInstruments(NameFilter(include=[\"Percussion\"])):\n",
    "    measures = part.getElementsByClass(stream.Measure)\n",
    "    plotMeasures(measures[1:4])\n",
    "        "
   ]
  },
  {
   "cell_type": "code",
   "execution_count": null,
   "metadata": {},
   "outputs": [],
   "source": [
    "quartersPerMeasure = 4\n",
    "ticksPerQuarter = 4 # 4 = 16th notes, 12 = 16th notes + triplets\n",
    "measuresPerSequence = 1\n",
    "\n",
    "filter = SongDataFilter(instrumentName=NameFilter(include=[\"Violin\"]), timeSignature='4/4', minNotesPerSequence=2)\n",
    "codec = NoteSequenceSparseCodec(filter=filter, ticksPerQuarter=ticksPerQuarter, quartersPerMeasure=quartersPerMeasure, measuresPerSequence=measuresPerSequence, trim=False)\n",
    "codec.encodeAll(dataset)\n",
    "\n",
    "# print(dataset.sequences.shape)\n",
    "plotSparseNoteSequence(dataset.sequences[0])\n",
    "\n"
   ]
  },
  {
   "cell_type": "code",
   "execution_count": null,
   "metadata": {},
   "outputs": [],
   "source": [
    "from xen.data.PercussionMap import ExtendedPercussionMap\n",
    "\n",
    "quartersPerMeasure = 4\n",
    "ticksPerQuarter = 4 # 4 = 16th notes, 12 = 16th notes + triplets\n",
    "measuresPerSequence = 1\n",
    "\n",
    "sequenceNum = 4\n",
    "\n",
    "filter = SongDataFilter(instrumentName=NameFilter(include=[\"Percussion\"]), timeSignature='4/4', minNotesPerSequence=1)\n",
    "codec = NoteSequenceSparseCodec(filter=filter, ticksPerQuarter=ticksPerQuarter, quartersPerMeasure=quartersPerMeasure, measuresPerSequence=1, \n",
    "                                percussionMap=ExtendedPercussionMap, mergeParts = True)\n",
    "codec.encodeAll(dataset)\n",
    "\n",
    "# print(dataset.sequences.shape)\n",
    "for sequence in dataset.sequences:\n",
    "    # print(sequence)\n",
    "    plotSparseNoteSequence(sequence, threshold=0.5)\n",
    "# plotSparseNoteSequence(dataset.sequences[0], threshold=0.5)\n",
    "# plotSparseNoteSequence(dataset.sequences[1], threshold=0.5)"
   ]
  },
  {
   "cell_type": "code",
   "execution_count": null,
   "metadata": {},
   "outputs": [],
   "source": [
    "import numpy as np\n",
    "\n",
    "measuresPerSequence = 4\n",
    "ticksPerQuarter = 4 # 4 = 16th notes, 12 = 16th notes + triplets\n",
    "\n",
    "codec = NoteSequenceSparseCodec(ticksPerQuarter=ticksPerQuarter, quartersPerMeasure=quartersPerMeasure, timesignature='4/4')\n",
    "codec.encodeAll(dataset)\n",
    "\n",
    "print(dataset.sequences.shape)\n",
    "\n",
    "decoded = codec.decode(np.array([dataset.sequences[0]]))\n",
    "plotSparseNoteSequence(decoded[0])"
   ]
  }
 ],
 "metadata": {
  "kernelspec": {
   "display_name": "Python 3.9.13 64-bit",
   "language": "python",
   "name": "python3"
  },
  "language_info": {
   "codemirror_mode": {
    "name": "ipython",
    "version": 3
   },
   "file_extension": ".py",
   "mimetype": "text/x-python",
   "name": "python",
   "nbconvert_exporter": "python",
   "pygments_lexer": "ipython3",
   "version": "3.11.3"
  },
  "vscode": {
   "interpreter": {
    "hash": "aee8b7b246df8f9039afb4144a1f6fd8d2ca17a180786b69acc140d282b71a49"
   }
  }
 },
 "nbformat": 4,
 "nbformat_minor": 2
}
