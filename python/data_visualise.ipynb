{
 "cells": [
  {
   "cell_type": "code",
   "execution_count": null,
   "metadata": {},
   "outputs": [],
   "source": [
    "%pip install music21"
   ]
  },
  {
   "cell_type": "code",
   "execution_count": 1,
   "metadata": {},
   "outputs": [
    {
     "name": "stderr",
     "output_type": "stream",
     "text": [
      "/Users/roberte/Library/Python/3.8/lib/python/site-packages/requests/__init__.py:102: RequestsDependencyWarning: urllib3 (1.26.9) or chardet (5.0.0)/charset_normalizer (2.0.12) doesn't match a supported version!\n",
      "  warnings.warn(\"urllib3 ({}) or chardet ({})/charset_normalizer ({}) doesn't match a supported \"\n"
     ]
    },
    {
     "name": "stdout",
     "output_type": "stream",
     "text": [
      "Loaded 1 Songs\n"
     ]
    }
   ],
   "source": [
    "import os\n",
    "from music21 import converter, pitch, interval, instrument, note, stream, meter\n",
    "from matplotlib import pyplot as plt\n",
    "\n",
    "from xen.data import SequenceDataSet\n",
    "from xen.visualise import plotPart, plotMeasures\n",
    "\n",
    "data_dir = \"../../../ml_data/mutopia_guitar/\"\n",
    "data_file = \"CarcassiMethodPreludes.mid\"\n",
    "\n",
    "dataset = SequenceDataSet()\n",
    "dataset.loadMidiFiles([data_dir + data_file])\n",
    "\n",
    "print(f'Loaded {len(dataset.songs)} Songs') "
   ]
  },
  {
   "cell_type": "code",
   "execution_count": null,
   "metadata": {},
   "outputs": [],
   "source": [
    "for i, song in enumerate(dataset.songs):\n",
    "    for part in song.score.getElementsByClass(stream.Part):\n",
    "        # part = part.chordify()\n",
    "        print(f'Length: {part.duration.quarterLength}')\n",
    "        plotPart(part)\n",
    "\n",
    "# scores[0].show()"
   ]
  },
  {
   "cell_type": "code",
   "execution_count": null,
   "metadata": {},
   "outputs": [],
   "source": [
    "for i, score in enumerate(dataset.songs):\n",
    "    for part in song.score.getElementsByClass(stream.Part):\n",
    "        measures = part.getElementsByClass(stream.Measure)\n",
    "        plotMeasures(measures[0:4])\n",
    "        "
   ]
  },
  {
   "cell_type": "code",
   "execution_count": 2,
   "metadata": {},
   "outputs": [
    {
     "name": "stdout",
     "output_type": "stream",
     "text": [
      "(16, 128)\n",
      "(32, 128)\n",
      "(48, 128)\n",
      "(64, 128)\n"
     ]
    },
    {
     "ename": "ValueError",
     "evalue": "all the input arrays must have same number of dimensions, but the array at index 0 has 3 dimension(s) and the array at index 1 has 2 dimension(s)",
     "output_type": "error",
     "traceback": [
      "\u001b[0;31m---------------------------------------------------------------------------\u001b[0m",
      "\u001b[0;31mValueError\u001b[0m                                Traceback (most recent call last)",
      "\u001b[1;32m/Users/roberte/workspace_home/projects/xen_machinelearning/python/data_visualise.ipynb Cell 5\u001b[0m in \u001b[0;36m<cell line: 12>\u001b[0;34m()\u001b[0m\n\u001b[1;32m      <a href='vscode-notebook-cell:/Users/roberte/workspace_home/projects/xen_machinelearning/python/data_visualise.ipynb#W4sZmlsZQ%3D%3D?line=7'>8</a>\u001b[0m         measures \u001b[39m=\u001b[39m song\u001b[39m.\u001b[39mgetConsecutiveMeasures(part, measuresPerSequence, \u001b[39m'\u001b[39m\u001b[39m4/4\u001b[39m\u001b[39m'\u001b[39m)\n\u001b[1;32m      <a href='vscode-notebook-cell:/Users/roberte/workspace_home/projects/xen_machinelearning/python/data_visualise.ipynb#W4sZmlsZQ%3D%3D?line=8'>9</a>\u001b[0m         measuresList \u001b[39m+\u001b[39m\u001b[39m=\u001b[39m measures\n\u001b[0;32m---> <a href='vscode-notebook-cell:/Users/roberte/workspace_home/projects/xen_machinelearning/python/data_visualise.ipynb#W4sZmlsZQ%3D%3D?line=11'>12</a>\u001b[0m song\u001b[39m.\u001b[39;49mmakeSequences(ticksPerQuarter, measuresPerSequence, \u001b[39m'\u001b[39;49m\u001b[39m4/4\u001b[39;49m\u001b[39m'\u001b[39;49m)\n",
      "File \u001b[0;32m~/workspace_home/projects/xen_machinelearning/python/xen/data.py:62\u001b[0m, in \u001b[0;36mSongData.makeSequences\u001b[0;34m(self, ticksPerQuarter, measuresPerSequence, match_timesig)\u001b[0m\n\u001b[1;32m     60\u001b[0m             sequence \u001b[39m=\u001b[39m np\u001b[39m.\u001b[39mappend(sequence, measureSeq, \u001b[39m0\u001b[39m)\n\u001b[1;32m     61\u001b[0m             \u001b[39mprint\u001b[39m(sequence\u001b[39m.\u001b[39mshape)\n\u001b[0;32m---> 62\u001b[0m         sequences \u001b[39m=\u001b[39m np\u001b[39m.\u001b[39;49mappend(sequences, sequence, \u001b[39m0\u001b[39;49m)\n\u001b[1;32m     63\u001b[0m \u001b[39mreturn\u001b[39;00m sequences, minPitch, maxPitch\n",
      "File \u001b[0;32m<__array_function__ internals>:180\u001b[0m, in \u001b[0;36mappend\u001b[0;34m(*args, **kwargs)\u001b[0m\n",
      "File \u001b[0;32m~/Library/Python/3.8/lib/python/site-packages/numpy/lib/function_base.py:5440\u001b[0m, in \u001b[0;36mappend\u001b[0;34m(arr, values, axis)\u001b[0m\n\u001b[1;32m   5438\u001b[0m     values \u001b[39m=\u001b[39m ravel(values)\n\u001b[1;32m   5439\u001b[0m     axis \u001b[39m=\u001b[39m arr\u001b[39m.\u001b[39mndim\u001b[39m-\u001b[39m\u001b[39m1\u001b[39m\n\u001b[0;32m-> 5440\u001b[0m \u001b[39mreturn\u001b[39;00m concatenate((arr, values), axis\u001b[39m=\u001b[39;49maxis)\n",
      "File \u001b[0;32m<__array_function__ internals>:180\u001b[0m, in \u001b[0;36mconcatenate\u001b[0;34m(*args, **kwargs)\u001b[0m\n",
      "\u001b[0;31mValueError\u001b[0m: all the input arrays must have same number of dimensions, but the array at index 0 has 3 dimension(s) and the array at index 1 has 2 dimension(s)"
     ]
    }
   ],
   "source": [
    "measuresPerSequence = 4\n",
    "ticksPerQuarter = 4\n",
    "\n",
    "measuresList = []\n",
    "\n",
    "for i, song in enumerate(dataset.songs):\n",
    "    for part in song.getParts():\n",
    "        measures = song.getConsecutiveMeasures(part, measuresPerSequence, '4/4')\n",
    "        measuresList += measures\n",
    "\n",
    "        \n",
    "song.makeSequences(ticksPerQuarter, measuresPerSequence, '4/4')\n"
   ]
  },
  {
   "cell_type": "code",
   "execution_count": 5,
   "metadata": {},
   "outputs": [
    {
     "name": "stdout",
     "output_type": "stream",
     "text": [
      "[<music21.stream.Measure 1 offset=0.0>, <music21.stream.Measure 2 offset=4.0>, <music21.stream.Measure 3 offset=8.0>, <music21.stream.Measure 4 offset=12.0>]\n"
     ]
    }
   ],
   "source": [
    "import sys\n",
    "import numpy as np\n",
    "np.set_printoptions(threshold=sys.maxsize)\n",
    "\n",
    "print(measuresList[0][0])\n",
    "\n",
    "\n",
    "\n",
    "\n",
    "\n",
    "\n",
    "# ticksPerQuarter = 4\n",
    "# measureLength = ticksPerQuarter * 4 # 4 quarter notes per measure (time sig numerator)\n",
    "# measuresPerSequence = 4\n",
    "# sequenceLength = measureLength*measuresPerSequence\n",
    "# midiNotes = 128\n",
    "# sequences = np.empty((0, sequenceLength, midiNotes), int)\n",
    "\n",
    "# minPitch = 127\n",
    "# maxPitch = 0\n",
    "# for i, score in enumerate(scores):\n",
    "#     for part in score.getElementsByClass(stream.Part):\n",
    "#         seqs, seqMin, seqMax = getPartSequences(part, ticksPerQuarter, measuresPerSequence)\n",
    "#         sequences = np.append(sequences, seqs, 0)\n",
    "#         minPitch = min(minPitch, seqMin)\n",
    "#         maxPitch = max(maxPitch, seqMax)\n",
    "\n",
    "\n",
    "\n",
    "\n",
    "\n",
    "# trainInput = np.array(sequences)\n",
    "# print(trainInput.shape)\n",
    "# trainInput = trainInput[0:, 0:, minPitch:maxPitch+1]  # remove unused pitch classes\n",
    "\n",
    "# numSequences = trainInput.shape[0]\n",
    "# sequenceLength = trainInput.shape[1]\n",
    "# numCategories = trainInput.shape[2] #Category per midi note\n",
    "\n",
    "# print(trainInput.shape) # sequences, sequence length, pitch classes\n",
    "\n",
    "# flatTrainInput = trainInput.reshape(numSequences, sequenceLength * numCategories)\n",
    "\n",
    "# print(flatTrainInput.shape)\n",
    "\n",
    "\n",
    "\n"
   ]
  }
 ],
 "metadata": {
  "kernelspec": {
   "display_name": "Python 3.8.9 64-bit",
   "language": "python",
   "name": "python3"
  },
  "language_info": {
   "codemirror_mode": {
    "name": "ipython",
    "version": 3
   },
   "file_extension": ".py",
   "mimetype": "text/x-python",
   "name": "python",
   "nbconvert_exporter": "python",
   "pygments_lexer": "ipython3",
   "version": "3.8.9"
  },
  "orig_nbformat": 4,
  "vscode": {
   "interpreter": {
    "hash": "31f2aee4e71d21fbe5cf8b01ff0e069b9275f58929596ceb00d14d90e3e16cd6"
   }
  }
 },
 "nbformat": 4,
 "nbformat_minor": 2
}
