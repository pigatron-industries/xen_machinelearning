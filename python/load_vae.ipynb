{
 "cells": [
  {
   "cell_type": "code",
   "execution_count": null,
   "metadata": {},
   "outputs": [],
   "source": [
    "from xen.models.VariationalAutoencoder import VariationalAutoEncoder\n",
    "import tensorflow as tf\n",
    "\n",
    "autoencoder = VariationalAutoEncoder(path=\"../models\", name=\"mutopia_guitar_4-4\")\n",
    "\n",
    "# metadata = {\n",
    "#     \"timeSignature\": \"4/4\",\n",
    "#     \"sequenceLength\": 16\n",
    "# }\n",
    "# autoencoder.save(\"../models\", \"mutopia_guitar_16-4-4-500\")\n",
    "\n",
    "\n"
   ]
  },
  {
   "cell_type": "code",
   "execution_count": null,
   "metadata": {},
   "outputs": [],
   "source": [
    "import yaml\n",
    "\n",
    "metadata = {\n",
    "    \"timeSignature\": \"4/4\",\n",
    "    \"sequenceLength\": 16\n",
    "    \n",
    "}\n",
    "\n",
    "# write metadata to yaml file\n",
    "with open(\"../models/mutopia_guitar_4-4.yaml\", 'w') as outfile:\n",
    "    yaml.dump(metadata, outfile, default_flow_style=False)\n",
    "\n"
   ]
  },
  {
   "cell_type": "code",
   "execution_count": null,
   "metadata": {},
   "outputs": [],
   "source": [
    "import numpy as np\n",
    "from xen.data.codecs import SparseNoteSequenceCodec, FlatNoteSequenceCodec\n",
    "from xen.visualise import plotPart, plotSparseNoteSequence\n",
    "\n",
    "output = autoencoder.decode(np.array([[0, 0, 0, 0]]))\n",
    "print(output.shape)\n",
    "\n",
    "ticksPerQuarter = 4\n",
    "quartersPerMeasure = 4\n",
    "measuresPerSequence = 1\n",
    "codec = FlatNoteSequenceCodec(ticksPerQuarter, quartersPerMeasure, measuresPerSequence, '4/4')\n",
    "\n",
    "# TODO store min and max notes in metadata\n",
    "codec.minNote = 0\n",
    "codec.maxNote = 56\n",
    "sequence = codec.decode(output)\n",
    "\n",
    "plotSparseNoteSequence(sequence[0])\n",
    "\n",
    "\n"
   ]
  }
 ],
 "metadata": {
  "kernelspec": {
   "display_name": "tf",
   "language": "python",
   "name": "python3"
  },
  "language_info": {
   "codemirror_mode": {
    "name": "ipython",
    "version": 3
   },
   "file_extension": ".py",
   "mimetype": "text/x-python",
   "name": "python",
   "nbconvert_exporter": "python",
   "pygments_lexer": "ipython3",
   "version": "3.11.3"
  }
 },
 "nbformat": 4,
 "nbformat_minor": 2
}
