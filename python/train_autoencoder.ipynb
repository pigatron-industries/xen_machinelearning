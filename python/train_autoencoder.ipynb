{
 "cells": [
  {
   "cell_type": "code",
   "execution_count": null,
   "metadata": {},
   "outputs": [],
   "source": [
    "!pip install tensorflow==2.8\n",
    "!pip install keras==2.8"
   ]
  },
  {
   "cell_type": "code",
   "execution_count": null,
   "metadata": {},
   "outputs": [],
   "source": [
    "import os\n",
    "import numpy as np\n",
    "from music21 import converter, pitch, interval, instrument, note, stream\n",
    "from matplotlib import pyplot as plt\n",
    "\n",
    "from xen.visualise import plotPart, plotSequence\n",
    "from xen.data import getPartSequence, filterFractionalOffsets\n",
    "\n",
    "data_dir = \"../data/mutopia_guitar/\"\n",
    "\n",
    "scores = loadMidiScoresDir(data_dir)\n",
    "scores = filterTimeSigOnly(scores, (4,4))\n",
    "scores = filterFractionalOffsets(scores) # remove scores with triplets\n",
    "print(f'Loaded {len(scores)} Songs') \n"
   ]
  },
  {
   "cell_type": "code",
   "execution_count": null,
   "metadata": {},
   "outputs": [],
   "source": [
    "sequences = []\n",
    "\n",
    "ticksPerQuarter = 4   # 4 = 16th notes, to allow triplets would need to be 12 = 48 per measure\n",
    "measureLength = ticksPerQuarter * 4\n",
    "measuresPerSequence = 4\n",
    "sequenceLength = measureLength*measuresPerSequence\n",
    "midiNotes = 128\n",
    "sequences = np.empty((0, sequenceLength, midiNotes), int)\n",
    "\n",
    "minPitch = 127\n",
    "maxPitch = 0\n",
    "for i, score in enumerate(scores):\n",
    "    try:\n",
    "        for part in score.getElementsByClass(stream.Part):\n",
    "            seqs, seqMin, seqMax = getPartSequences(part, ticksPerQuarter, measuresPerSequence)\n",
    "            sequences = np.append(sequences, seqs, 0)\n",
    "            minPitch = min(minPitch, seqMin)\n",
    "            maxPitch = max(maxPitch, seqMax)\n",
    "    except Exception as e:\n",
    "        print(f'File: {score.filePath}')\n",
    "        print(f'Error: {str(e)}')\n",
    "        \n",
    "\n",
    "trainInput = np.array(sequences)\n",
    "trainInput = trainInput[0:, 0:, minPitch:maxPitch+1]  # remove unused pitch classes\n",
    "\n",
    "numSequences = trainInput.shape[0]\n",
    "sequenceLength = trainInput.shape[1]\n",
    "numCategories = trainInput.shape[2] #Category per midi note\n",
    "\n",
    "print(trainInput.shape) # sequences, sequence length, pitch classes\n",
    "\n",
    "flatTrainInput = trainInput.reshape(numSequences, sequenceLength * numCategories)\n",
    "\n",
    "print(flatTrainInput.shape)\n",
    "# print(flatTrainInput)\n",
    "\n",
    "inputShape = (flatTrainInput.shape[1])\n",
    "\n",
    "plotSequence(trainInput[1])\n"
   ]
  },
  {
   "cell_type": "code",
   "execution_count": null,
   "metadata": {},
   "outputs": [],
   "source": [
    "import tensorflow as tf\n",
    "\n",
    "inputShape = inputShape\n",
    "latentShape = (2)\n",
    "\n",
    "# encoder model\n",
    "encoderInput = tf.keras.layers.Input(shape = inputShape)\n",
    "encoderOutput = tf.keras.layers.Dense(latentShape, activation = 'tanh')(encoderInput)\n",
    "encoder = tf.keras.Model(encoderInput, encoderOutput)\n",
    "\n",
    "# decoder model\n",
    "decoderInput = tf.keras.layers.Input(shape = latentShape)\n",
    "decoderOutput = tf.keras.layers.Dense(inputShape, activation = 'sigmoid')(decoderInput)\n",
    "decoder = tf.keras.Model(decoderInput, decoderOutput)\n",
    "\n",
    "# autoencoder model\n",
    "autoencoder = tf.keras.Model(encoderInput, decoder(encoderOutput))"
   ]
  },
  {
   "cell_type": "code",
   "execution_count": null,
   "metadata": {},
   "outputs": [],
   "source": [
    "\n",
    "autoencoder.compile(loss = 'binary_crossentropy', optimizer='rmsprop')\n",
    "\n",
    "autoencoder.fit(flatTrainInput, flatTrainInput, epochs = 50)\n"
   ]
  },
  {
   "cell_type": "code",
   "execution_count": null,
   "metadata": {},
   "outputs": [],
   "source": [
    "input = np.array([flatTrainInput[0]])\n",
    "\n",
    "output = autoencoder.predict(input)\n",
    "\n",
    "output = output.reshape(1, sequenceLength, numCategories)\n",
    "\n",
    "print(output.shape)\n",
    "print(output)"
   ]
  }
 ],
 "metadata": {
  "kernelspec": {
   "display_name": "Python 3.9.13 64-bit",
   "language": "python",
   "name": "python3"
  },
  "language_info": {
   "codemirror_mode": {
    "name": "ipython",
    "version": 3
   },
   "file_extension": ".py",
   "mimetype": "text/x-python",
   "name": "python",
   "nbconvert_exporter": "python",
   "pygments_lexer": "ipython3",
   "version": "3.9.13"
  },
  "vscode": {
   "interpreter": {
    "hash": "aee8b7b246df8f9039afb4144a1f6fd8d2ca17a180786b69acc140d282b71a49"
   }
  }
 },
 "nbformat": 4,
 "nbformat_minor": 2
}
