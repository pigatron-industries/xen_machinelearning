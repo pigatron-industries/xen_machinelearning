{
 "cells": [
  {
   "cell_type": "code",
   "execution_count": null,
   "metadata": {},
   "outputs": [],
   "source": [
    "!pip install tensorflow==2.8\n",
    "!pip install keras==2.8"
   ]
  },
  {
   "cell_type": "markdown",
   "metadata": {},
   "source": [
    "### Load"
   ]
  },
  {
   "cell_type": "code",
   "execution_count": null,
   "metadata": {},
   "outputs": [],
   "source": [
    "import os\n",
    "import numpy as np\n",
    "from music21 import converter, pitch, interval, instrument, note, stream\n",
    "from matplotlib import pyplot as plt\n",
    "\n",
    "from xen.visualise import plotPart, plotSequence\n",
    "from xen.data import SequenceDataSet\n",
    "\n",
    "data_dir = \"../../../ml_data/mutopia_guitar/\"\n",
    "\n",
    "dataset = SequenceDataSet()\n",
    "dataset.loadMidiDir(data_dir)\n",
    "\n",
    "print(f'Loaded {len(dataset.songs)} Songs') \n"
   ]
  },
  {
   "cell_type": "markdown",
   "metadata": {},
   "source": [
    "### Filter"
   ]
  },
  {
   "cell_type": "code",
   "execution_count": null,
   "metadata": {},
   "outputs": [],
   "source": [
    "ticksPerQuarter = 4\n",
    "dataset.filterFractionalOffsets(ticksPerQuarter)\n",
    "\n",
    "print(f'{len(dataset.songs)} Songs') "
   ]
  },
  {
   "cell_type": "code",
   "execution_count": null,
   "metadata": {},
   "outputs": [],
   "source": [
    "sequences = []\n",
    "\n",
    "ticksPerQuarter = 4   # 4 = 16th notes, to allow triplets would need to be 12 = 48 per measure\n",
    "measuresPerSequence = 4\n",
    "\n",
    "sequences, minPitch, maxPitch = dataset.makeSequences(ticksPerQuarter, measuresPerSequence, '4/4')\n",
    "print(sequences.shape)\n",
    "\n",
    "\n",
    "trainInput = sequences[0:, 0:, minPitch:maxPitch+1]  # remove unused pitch classes\n",
    "print(trainInput.shape)\n",
    "\n",
    "numSequences = trainInput.shape[0]\n",
    "sequenceLength = trainInput.shape[1]\n",
    "numCategories = trainInput.shape[2] #Category per midi note\n",
    "\n",
    "flatTrainInput = trainInput.reshape(numSequences, sequenceLength * numCategories)\n",
    "\n",
    "print(flatTrainInput.shape)\n",
    "# # print(flatTrainInput)\n",
    "\n",
    "# inputShape = (flatTrainInput.shape[1])\n",
    "\n",
    "# plotSequence(trainInput[1])\n"
   ]
  },
  {
   "cell_type": "code",
   "execution_count": null,
   "metadata": {},
   "outputs": [],
   "source": [
    "import tensorflow as tf\n",
    "\n",
    "inputShape = inputShape\n",
    "latentShape = (2)\n",
    "\n",
    "# encoder model\n",
    "encoderInput = tf.keras.layers.Input(shape = inputShape)\n",
    "encoderOutput = tf.keras.layers.Dense(latentShape, activation = 'tanh')(encoderInput)\n",
    "encoder = tf.keras.Model(encoderInput, encoderOutput)\n",
    "\n",
    "# decoder model\n",
    "decoderInput = tf.keras.layers.Input(shape = latentShape)\n",
    "decoderOutput = tf.keras.layers.Dense(inputShape, activation = 'sigmoid')(decoderInput)\n",
    "decoder = tf.keras.Model(decoderInput, decoderOutput)\n",
    "\n",
    "# autoencoder model\n",
    "autoencoder = tf.keras.Model(encoderInput, decoder(encoderOutput))"
   ]
  },
  {
   "cell_type": "code",
   "execution_count": null,
   "metadata": {},
   "outputs": [],
   "source": [
    "\n",
    "autoencoder.compile(loss = 'binary_crossentropy', optimizer='rmsprop')\n",
    "\n",
    "autoencoder.fit(flatTrainInput, flatTrainInput, epochs = 50)\n"
   ]
  },
  {
   "cell_type": "code",
   "execution_count": null,
   "metadata": {},
   "outputs": [],
   "source": [
    "input = np.array([flatTrainInput[0]])\n",
    "\n",
    "output = autoencoder.predict(input)\n",
    "\n",
    "output = output.reshape(1, sequenceLength, numCategories)\n",
    "\n",
    "print(output.shape)\n",
    "print(output)"
   ]
  }
 ],
 "metadata": {
  "kernelspec": {
   "display_name": "Python 3.8.9 64-bit",
   "language": "python",
   "name": "python3"
  },
  "language_info": {
   "codemirror_mode": {
    "name": "ipython",
    "version": 3
   },
   "file_extension": ".py",
   "mimetype": "text/x-python",
   "name": "python",
   "nbconvert_exporter": "python",
   "pygments_lexer": "ipython3",
   "version": "3.8.9"
  },
  "vscode": {
   "interpreter": {
    "hash": "31f2aee4e71d21fbe5cf8b01ff0e069b9275f58929596ceb00d14d90e3e16cd6"
   }
  }
 },
 "nbformat": 4,
 "nbformat_minor": 2
}
