{
 "cells": [
  {
   "cell_type": "code",
   "execution_count": null,
   "metadata": {},
   "outputs": [],
   "source": [
    "from xen.data.SongData import SongData, SongDataSet\n",
    "from xen.codecs.NoteSequenceSparseCodec import NoteSequenceSparseCodec\n",
    "\n",
    "# paths = [\"../../../ai/trainingdata/music/mutopia_guitar/CarcassiMethodPreludes.mid\"]\n",
    "\n",
    "paths = [\"../../../ai/trainingdata/music/mutopia_guitar/\"]\n",
    "ticksPerQuarter = 4\n",
    "\n",
    "dataset = SongDataSet.fromMidiPaths(paths, recursive=False)\n",
    "codec = NoteSequenceSparseCodec(ticksPerQuarter, quartersPerMeasure=None, measuresPerSequence=None, timesignature=None, minMeasuresPerSequence=4, trim = True, normaliseOctave=True)\n",
    "sequences = codec.encodeAll(dataset)\n"
   ]
  },
  {
   "cell_type": "code",
   "execution_count": null,
   "metadata": {},
   "outputs": [],
   "source": [
    "\n",
    "dataset.getDataset()\n",
    "\n",
    "from xen.visualise import plotSparseNoteSequence\n",
    "\n",
    "# for sequence in sequences:\n",
    "#     plotSparseNoteSequence(sequence)\n",
    "\n",
    "input_sequences = []\n",
    "\n",
    "\n",
    "# inputLayer = tf.keras.Input(inputShape)\n",
    "# lstmLayer = tf.keras.layers.LSTM(128)(self.inputLayer)\n",
    "# outputLayer = tf.keras.layers.Dense(lstmDim)(self.lstmLayer)\n",
    "\n"
   ]
  }
 ],
 "metadata": {
  "kernelspec": {
   "display_name": "tf",
   "language": "python",
   "name": "python3"
  },
  "language_info": {
   "codemirror_mode": {
    "name": "ipython",
    "version": 3
   },
   "file_extension": ".py",
   "mimetype": "text/x-python",
   "name": "python",
   "nbconvert_exporter": "python",
   "pygments_lexer": "ipython3",
   "version": "3.11.3"
  },
  "orig_nbformat": 4
 },
 "nbformat": 4,
 "nbformat_minor": 2
}
