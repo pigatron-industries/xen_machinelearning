{
 "cells": [
  {
   "attachments": {},
   "cell_type": "markdown",
   "metadata": {},
   "source": [
    "### Create new"
   ]
  },
  {
   "cell_type": "code",
   "execution_count": 3,
   "metadata": {},
   "outputs": [
    {
     "data": {
      "application/vnd.jupyter.widget-view+json": {
       "model_id": "8c7e66745b32489e8c6689c254cc7dcf",
       "version_major": 2,
       "version_minor": 0
      },
      "text/plain": [
       "IntProgress(value=0, max=1)"
      ]
     },
     "metadata": {},
     "output_type": "display_data"
    },
    {
     "data": {
      "application/vnd.jupyter.widget-view+json": {
       "model_id": "d40cf441cccc4c20ac63cdfe85877200",
       "version_major": 2,
       "version_minor": 0
      },
      "text/plain": [
       "Label(value='')"
      ]
     },
     "metadata": {},
     "output_type": "display_data"
    },
    {
     "name": "stdout",
     "output_type": "stream",
     "text": [
      "Loaded 1 songs\n",
      "Filtered to 1 songs\n",
      "Encoding ../../../ai/trainingdata/music/songsterr/lorna-shore/Lorna Shore - Pain Remains III- In a Sea of Fire (555725).mid\n",
      "Ignored 37 sequences from ../../../ai/trainingdata/music/songsterr/lorna-shore/Lorna Shore - Pain Remains III- In a Sea of Fire (555725).mid\n",
      "Ignored 87 sequences from ../../../ai/trainingdata/music/songsterr/lorna-shore/Lorna Shore - Pain Remains III- In a Sea of Fire (555725).mid\n",
      "Ignored 87 sequences from ../../../ai/trainingdata/music/songsterr/lorna-shore/Lorna Shore - Pain Remains III- In a Sea of Fire (555725).mid\n",
      "Ignored 100 sequences from ../../../ai/trainingdata/music/songsterr/lorna-shore/Lorna Shore - Pain Remains III- In a Sea of Fire (555725).mid\n",
      "Ignored 100 sequences from ../../../ai/trainingdata/music/songsterr/lorna-shore/Lorna Shore - Pain Remains III- In a Sea of Fire (555725).mid\n",
      "Ignored 100 sequences from ../../../ai/trainingdata/music/songsterr/lorna-shore/Lorna Shore - Pain Remains III- In a Sea of Fire (555725).mid\n",
      "Ignored 100 sequences from ../../../ai/trainingdata/music/songsterr/lorna-shore/Lorna Shore - Pain Remains III- In a Sea of Fire (555725).mid\n",
      "Ignored 100 sequences from ../../../ai/trainingdata/music/songsterr/lorna-shore/Lorna Shore - Pain Remains III- In a Sea of Fire (555725).mid\n",
      "Ignored 100 sequences from ../../../ai/trainingdata/music/songsterr/lorna-shore/Lorna Shore - Pain Remains III- In a Sea of Fire (555725).mid\n",
      "Ignored 100 sequences from ../../../ai/trainingdata/music/songsterr/lorna-shore/Lorna Shore - Pain Remains III- In a Sea of Fire (555725).mid\n",
      "Ignored 100 sequences from ../../../ai/trainingdata/music/songsterr/lorna-shore/Lorna Shore - Pain Remains III- In a Sea of Fire (555725).mid\n",
      "Ignored 100 sequences from ../../../ai/trainingdata/music/songsterr/lorna-shore/Lorna Shore - Pain Remains III- In a Sea of Fire (555725).mid\n",
      "Ignored 100 sequences from ../../../ai/trainingdata/music/songsterr/lorna-shore/Lorna Shore - Pain Remains III- In a Sea of Fire (555725).mid\n",
      "Ignored 100 sequences from ../../../ai/trainingdata/music/songsterr/lorna-shore/Lorna Shore - Pain Remains III- In a Sea of Fire (555725).mid\n",
      "Ignored 103 sequences from ../../../ai/trainingdata/music/songsterr/lorna-shore/Lorna Shore - Pain Remains III- In a Sea of Fire (555725).mid\n",
      "Ignored 103 sequences from ../../../ai/trainingdata/music/songsterr/lorna-shore/Lorna Shore - Pain Remains III- In a Sea of Fire (555725).mid\n",
      "Ignored 103 sequences from ../../../ai/trainingdata/music/songsterr/lorna-shore/Lorna Shore - Pain Remains III- In a Sea of Fire (555725).mid\n",
      "Ignored 103 sequences from ../../../ai/trainingdata/music/songsterr/lorna-shore/Lorna Shore - Pain Remains III- In a Sea of Fire (555725).mid\n",
      "Encoded 1415 sequences from ../../../ai/trainingdata/music/songsterr/lorna-shore/Lorna Shore - Pain Remains III- In a Sea of Fire (555725).mid\n",
      "Sparse sequence shape: (16, 128)\n",
      "Lowest note: 19, Highest note: 100\n",
      "Trimmed sequences shape: (16, 82)\n",
      "Encoded 1415 sequences\n",
      "Flattened sequences shape: (1312,)\n",
      "Layer dims: [1312, 172, 22, 3]\n",
      "Model: \"encoder\"\n",
      "__________________________________________________________________________________________________\n",
      " Layer (type)                   Output Shape         Param #     Connected to                     \n",
      "==================================================================================================\n",
      " encoder_input (InputLayer)     [(None, 1312)]       0           []                               \n",
      "                                                                                                  \n",
      " encoder_internal_0 (Dense)     (None, 172)          225836      ['encoder_input[0][0]']          \n",
      "                                                                                                  \n",
      " encoder_internal_1 (Dense)     (None, 22)           3806        ['encoder_internal_0[0][0]']     \n",
      "                                                                                                  \n",
      " encoder_mean (Dense)           (None, 3)            69          ['encoder_internal_1[0][0]']     \n",
      "                                                                                                  \n",
      " encoder_logvar (Dense)         (None, 3)            69          ['encoder_internal_1[0][0]']     \n",
      "                                                                                                  \n",
      " encoder_sampling (Lambda)      (None, 3)            0           ['encoder_mean[0][0]',           \n",
      "                                                                  'encoder_logvar[0][0]']         \n",
      "                                                                                                  \n",
      "==================================================================================================\n",
      "Total params: 229,780\n",
      "Trainable params: 229,780\n",
      "Non-trainable params: 0\n",
      "__________________________________________________________________________________________________\n",
      "Model: \"decoder\"\n",
      "_________________________________________________________________\n",
      " Layer (type)                Output Shape              Param #   \n",
      "=================================================================\n",
      " decoder_input (InputLayer)  [(None, 3)]               0         \n",
      "                                                                 \n",
      " decoder_internal_0 (Dense)  (None, 22)                88        \n",
      "                                                                 \n",
      " decoder_internal_1 (Dense)  (None, 172)               3956      \n",
      "                                                                 \n",
      " decoder_output (Dense)      (None, 1312)              226976    \n",
      "                                                                 \n",
      "=================================================================\n",
      "Total params: 231,020\n",
      "Trainable params: 231,020\n",
      "Non-trainable params: 0\n",
      "_________________________________________________________________\n",
      "Model: \"autoencoder\"\n",
      "__________________________________________________________________________________________________\n",
      " Layer (type)                   Output Shape         Param #     Connected to                     \n",
      "==================================================================================================\n",
      " encoder_input (InputLayer)     [(None, 1312)]       0           []                               \n",
      "                                                                                                  \n",
      " encoder_internal_0 (Dense)     (None, 172)          225836      ['encoder_input[0][0]']          \n",
      "                                                                                                  \n",
      " encoder_internal_1 (Dense)     (None, 22)           3806        ['encoder_internal_0[0][0]']     \n",
      "                                                                                                  \n",
      " encoder_mean (Dense)           (None, 3)            69          ['encoder_internal_1[0][0]']     \n",
      "                                                                                                  \n",
      " encoder_logvar (Dense)         (None, 3)            69          ['encoder_internal_1[0][0]']     \n",
      "                                                                                                  \n",
      " encoder_sampling (Lambda)      (None, 3)            0           ['encoder_mean[0][0]',           \n",
      "                                                                  'encoder_logvar[0][0]']         \n",
      "                                                                                                  \n",
      " decoder (Functional)           (None, 1312)         231020      ['encoder_sampling[0][0]']       \n",
      "                                                                                                  \n",
      "==================================================================================================\n",
      "Total params: 460,800\n",
      "Trainable params: 460,800\n",
      "Non-trainable params: 0\n",
      "__________________________________________________________________________________________________\n"
     ]
    }
   ],
   "source": [
    "\n",
    "from xen.training.SequenceVAETrainer import SequenceVAETrainer\n",
    "\n",
    "# paths = [\"../../../ai/trainingdata/music/mutopia_guitar/\"]\n",
    "paths = [\"../../../ai/trainingdata/music/songsterr/lorna-shore\"]\n",
    "\n",
    "trainer = SequenceVAETrainer(modelPath=\"../models\", modelName=\"mutopia_guitar_16\")\n",
    "trainer.loadSongDataset(paths, timesig='4/4', ticksPerQuarter=4, quartersPerMeasure=4, measuresPerSequence=1)\n",
    "trainer.createModel(latentDim = 3, hiddenLayers = 2)\n"
   ]
  },
  {
   "attachments": {},
   "cell_type": "markdown",
   "metadata": {},
   "source": [
    "### Load Existing"
   ]
  },
  {
   "cell_type": "code",
   "execution_count": null,
   "metadata": {},
   "outputs": [],
   "source": [
    "\n",
    "from xen.training.SequenceVAETrainer import SequenceVAETrainer\n",
    "\n",
    "trainer = SequenceVAETrainer(modelPath=\"../models\", modelName=\"mutopia_guitar_16\")\n",
    "trainer.loadSongDataset([\"../../../ai/trainingdata/music/mutopia_guitar/\"], timesig='4/4', ticksPerQuarter=4, quartersPerMeasure=4, measuresPerSequence=1)\n",
    "trainer.loadModel()\n"
   ]
  },
  {
   "attachments": {},
   "cell_type": "markdown",
   "metadata": {},
   "source": [
    "### Train"
   ]
  },
  {
   "cell_type": "code",
   "execution_count": null,
   "metadata": {},
   "outputs": [],
   "source": [
    "trainer.train(batchSize = 32, epochs = 500, learning_rate = 0.005)\n",
    "trainer.saveModel(quantize = None)"
   ]
  },
  {
   "cell_type": "code",
   "execution_count": null,
   "metadata": {},
   "outputs": [],
   "source": [
    "trainer.calcRecall()"
   ]
  },
  {
   "attachments": {},
   "cell_type": "markdown",
   "metadata": {},
   "source": [
    "### Visualise Latent Space"
   ]
  },
  {
   "cell_type": "code",
   "execution_count": null,
   "metadata": {},
   "outputs": [],
   "source": [
    "trainer.plotLatentSpace()"
   ]
  },
  {
   "cell_type": "code",
   "execution_count": null,
   "metadata": {},
   "outputs": [],
   "source": [
    "trainer.plotInputOutputSequence(0)"
   ]
  },
  {
   "cell_type": "code",
   "execution_count": null,
   "metadata": {},
   "outputs": [],
   "source": [
    "trainer.plotOutputValueDistribution()"
   ]
  }
 ],
 "metadata": {
  "kernelspec": {
   "display_name": "Python 3.9.13 64-bit",
   "language": "python",
   "name": "python3"
  },
  "language_info": {
   "codemirror_mode": {
    "name": "ipython",
    "version": 3
   },
   "file_extension": ".py",
   "mimetype": "text/x-python",
   "name": "python",
   "nbconvert_exporter": "python",
   "pygments_lexer": "ipython3",
   "version": "3.11.3"
  },
  "vscode": {
   "interpreter": {
    "hash": "aee8b7b246df8f9039afb4144a1f6fd8d2ca17a180786b69acc140d282b71a49"
   }
  }
 },
 "nbformat": 4,
 "nbformat_minor": 2
}
