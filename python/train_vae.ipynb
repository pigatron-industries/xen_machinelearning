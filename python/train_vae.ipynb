{
 "cells": [
  {
   "attachments": {},
   "cell_type": "markdown",
   "metadata": {},
   "source": [
    "### Create new"
   ]
  },
  {
   "cell_type": "code",
   "execution_count": null,
   "metadata": {},
   "outputs": [],
   "source": [
    "\n",
    "from xen.training.SequenceVAETrainer import SequenceVAETrainer\n",
    "from xen.data.Filter import NameFilter, SongDataFilter\n",
    "\n",
    "# paths = [\"../../../ai/trainingdata/music/mutopia_guitar/\"]\n",
    "paths = [\"/Volumes/Rob/projects/ml_training/music/songsterr/lorna_shore\"]\n",
    "filter = SongDataFilter(instrumentName=NameFilter(exclude=[\"Percussion\", \"Bass\"]), \n",
    "                        timeSignature='4/4', \n",
    "                        minNotesPerSequence=4)\n",
    "\n",
    "trainer = SequenceVAETrainer(modelPath=\"../models\", modelName=\"note-lorna-b16\")\n",
    "trainer.loadSongDataset(paths, filter=filter, ticksPerQuarter=4, quartersPerMeasure=4, measuresPerSequence=1)\n",
    "trainer.createModel(latentDim = 3, hiddenLayers = 2)\n",
    "\n"
   ]
  },
  {
   "attachments": {},
   "cell_type": "markdown",
   "metadata": {},
   "source": [
    "### Load Existing"
   ]
  },
  {
   "cell_type": "code",
   "execution_count": null,
   "metadata": {},
   "outputs": [],
   "source": [
    "\n",
    "from xen.training.SequenceVAETrainer import SequenceVAETrainer\n",
    "\n",
    "trainer = SequenceVAETrainer(modelPath=\"../models\", modelName=\"mutopia_guitar_16\")\n",
    "trainer.loadSongDataset([\"../../../ai/trainingdata/music/mutopia_guitar/\"], timesig='4/4', ticksPerQuarter=4, quartersPerMeasure=4, measuresPerSequence=1)\n",
    "trainer.loadModel()\n"
   ]
  },
  {
   "attachments": {},
   "cell_type": "markdown",
   "metadata": {},
   "source": [
    "### Train"
   ]
  },
  {
   "cell_type": "code",
   "execution_count": null,
   "metadata": {},
   "outputs": [],
   "source": [
    "trainer.train(batchSize = 32, epochs = 5000, learningRate = 0.005, patience = 20)\n",
    "trainer.saveModel(quantize = None)"
   ]
  },
  {
   "cell_type": "code",
   "execution_count": null,
   "metadata": {},
   "outputs": [],
   "source": [
    "trainer.calcRecall()"
   ]
  },
  {
   "attachments": {},
   "cell_type": "markdown",
   "metadata": {},
   "source": [
    "### Visualise Latent Space"
   ]
  },
  {
   "cell_type": "code",
   "execution_count": null,
   "metadata": {},
   "outputs": [],
   "source": [
    "trainer.plotLatentSpace()"
   ]
  },
  {
   "cell_type": "code",
   "execution_count": null,
   "metadata": {},
   "outputs": [],
   "source": [
    "trainer.plotInputOutputSequence(1000, threshold = 0.5)"
   ]
  },
  {
   "cell_type": "code",
   "execution_count": null,
   "metadata": {},
   "outputs": [],
   "source": [
    "trainer.plotOutputValueDistribution()"
   ]
  }
 ],
 "metadata": {
  "kernelspec": {
   "display_name": "Python 3.9.13 64-bit",
   "language": "python",
   "name": "python3"
  },
  "language_info": {
   "codemirror_mode": {
    "name": "ipython",
    "version": 3
   },
   "file_extension": ".py",
   "mimetype": "text/x-python",
   "name": "python",
   "nbconvert_exporter": "python",
   "pygments_lexer": "ipython3",
   "version": "3.11.3"
  },
  "vscode": {
   "interpreter": {
    "hash": "aee8b7b246df8f9039afb4144a1f6fd8d2ca17a180786b69acc140d282b71a49"
   }
  }
 },
 "nbformat": 4,
 "nbformat_minor": 2
}
