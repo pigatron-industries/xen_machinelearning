{
 "cells": [
  {
   "attachments": {},
   "cell_type": "markdown",
   "metadata": {},
   "source": [
    "### Create new"
   ]
  },
  {
   "cell_type": "code",
   "execution_count": null,
   "metadata": {},
   "outputs": [],
   "source": [
    "from xen.training.SequenceVAETrainer import SequenceVAETrainer\n",
    "from xen.data.PercussionMap import SimplePercussionMap, AccentedPercussionMap, ExtendedPercussionMap\n",
    "\n",
    "# paths = [\"../../../ai/trainingdata/music/800000_Drum_Percussion_MIDI_Archive/Rock-Indie\"]\n",
    "paths = [\"../../../ai/trainingdata/music/songsterr/lorna-shore\"]\n",
    "\n",
    "# instrumentFilter=None\n",
    "instrumentFilter = [\"Percussion\"]\n",
    "\n",
    "trainer = SequenceVAETrainer(modelPath=\"../models\", modelName=\"perc2-test16\")\n",
    "trainer.loadSongDataset(paths, timesig='4/4', ticksPerQuarter=4, quartersPerMeasure=4, measuresPerSequence=1, instrumentFilter=instrumentFilter, percussionMap=ExtendedPercussionMap)\n",
    "trainer.createModel(latentDim = 3, hiddenLayers = 2)\n"
   ]
  },
  {
   "attachments": {},
   "cell_type": "markdown",
   "metadata": {},
   "source": [
    "### Load Existing"
   ]
  },
  {
   "cell_type": "code",
   "execution_count": null,
   "metadata": {},
   "outputs": [],
   "source": [
    "\n",
    "from xen.training.SequenceVAETrainer import SequenceVAETrainer\n",
    "from xen.data.PercussionMap import PercussionMap\n",
    "\n",
    "paths = [\"../../../ai/trainingdata/music/800000_Drum_Percussion_MIDI_Archive/Rock-Indie\"]\n",
    "\n",
    "trainer = SequenceVAETrainer(modelPath=\"../models\", modelName=\"perc-rock\")\n",
    "trainer.loadSongDataset(paths, timesig='4/4', ticksPerQuarter=4, quartersPerMeasure=4, measuresPerSequence=1, percussionMap=PercussionMap())\n",
    "trainer.loadModel()\n"
   ]
  },
  {
   "attachments": {},
   "cell_type": "markdown",
   "metadata": {},
   "source": [
    "### Train"
   ]
  },
  {
   "cell_type": "code",
   "execution_count": null,
   "metadata": {},
   "outputs": [],
   "source": [
    "trainer.train(batchSize = 32, epochs = 500, learningRate = 0.005)\n",
    "trainer.saveModel(quantize = None)"
   ]
  },
  {
   "cell_type": "code",
   "execution_count": null,
   "metadata": {},
   "outputs": [],
   "source": [
    "trainer.calcRecall()"
   ]
  },
  {
   "attachments": {},
   "cell_type": "markdown",
   "metadata": {},
   "source": [
    "### Visualise Latent Space"
   ]
  },
  {
   "cell_type": "code",
   "execution_count": null,
   "metadata": {},
   "outputs": [],
   "source": [
    "trainer.plotLatentSpace()"
   ]
  },
  {
   "cell_type": "code",
   "execution_count": null,
   "metadata": {},
   "outputs": [],
   "source": [
    "trainer.plotInputOutputSequence(13, threshold=0.5)"
   ]
  },
  {
   "cell_type": "code",
   "execution_count": null,
   "metadata": {},
   "outputs": [],
   "source": [
    "trainer.plotOutputValueDistribution()"
   ]
  }
 ],
 "metadata": {
  "kernelspec": {
   "display_name": "Python 3.9.13 64-bit",
   "language": "python",
   "name": "python3"
  },
  "language_info": {
   "codemirror_mode": {
    "name": "ipython",
    "version": 3
   },
   "file_extension": ".py",
   "mimetype": "text/x-python",
   "name": "python",
   "nbconvert_exporter": "python",
   "pygments_lexer": "ipython3",
   "version": "3.11.3"
  },
  "vscode": {
   "interpreter": {
    "hash": "aee8b7b246df8f9039afb4144a1f6fd8d2ca17a180786b69acc140d282b71a49"
   }
  }
 },
 "nbformat": 4,
 "nbformat_minor": 2
}
