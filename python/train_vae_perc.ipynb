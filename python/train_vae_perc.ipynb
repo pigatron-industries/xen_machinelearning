{
 "cells": [
  {
   "attachments": {},
   "cell_type": "markdown",
   "metadata": {},
   "source": [
    "### Create new"
   ]
  },
  {
   "cell_type": "code",
   "execution_count": null,
   "metadata": {},
   "outputs": [],
   "source": [
    "from xen.training.SequenceVAETrainer import SequenceVAETrainer\n",
    "from xen.data.PercussionMap import SimplePercussionMap, AccentedPercussionMap, ExtendedPercussionMap\n",
    "from xen.data.Filter import SongDataFilter, NameFilter\n",
    "\n",
    "# paths = [\"../../../ai/trainingdata/music/800000_Drum_Percussion_MIDI_Archive/Rock-Indie\"]\n",
    "# instrumentFilter=None\n",
    "\n",
    "paths = [\n",
    "    \"../../../ai/trainingdata/music/800000_Drum_Percussion_MIDI_Archive/Superior Drummer 2 Drum Midi/00201@BREAKBEAT HOUSE\", \n",
    "    \"../../../ai/trainingdata/music/800000_Drum_Percussion_MIDI_Archive/Superior Drummer 2 Drum Midi/00201@BREAKS & SWINGBEATS VOL1\"\n",
    "]\n",
    "\n",
    "filter = SongDataFilter(instrumentName=NameFilter(include=\"Percussion\"), \n",
    "                        timeSignature='4/4', \n",
    "                        minNotesPerSequence=4)\n",
    "\n",
    "\n",
    "trainer = SequenceVAETrainer(modelPath=\"../models\", modelName=\"perc-brkbt16\")\n",
    "trainer.loadSongDataset(paths, filter=filter, ticksPerQuarter=4, quartersPerMeasure=4, measuresPerSequence=1,\n",
    "                        percussionMap=ExtendedPercussionMap, mergeParts=True)\n",
    "trainer.createModel(latentDim = 3, hiddenLayers = 2, latentScale=3.0)\n"
   ]
  },
  {
   "attachments": {},
   "cell_type": "markdown",
   "metadata": {},
   "source": [
    "### Load Existing"
   ]
  },
  {
   "cell_type": "code",
   "execution_count": null,
   "metadata": {},
   "outputs": [],
   "source": [
    "\n",
    "from xen.training.SequenceVAETrainer import SequenceVAETrainer\n",
    "from xen.data.PercussionMap import PercussionMap\n",
    "\n",
    "paths = [\"../../../ai/trainingdata/music/800000_Drum_Percussion_MIDI_Archive/Rock-Indie\"]\n",
    "\n",
    "trainer = SequenceVAETrainer(modelPath=\"../models\", modelName=\"perc-rock\")\n",
    "trainer.loadSongDataset(paths, timesig='4/4', ticksPerQuarter=4, quartersPerMeasure=4, measuresPerSequence=1, percussionMap=PercussionMap())\n",
    "trainer.loadModel()\n"
   ]
  },
  {
   "attachments": {},
   "cell_type": "markdown",
   "metadata": {},
   "source": [
    "### Train"
   ]
  },
  {
   "cell_type": "code",
   "execution_count": null,
   "metadata": {},
   "outputs": [],
   "source": [
    "trainer.train(batchSize = 32, epochs = 5000, learningRate = 0.005, patience = 50)\n",
    "trainer.saveModel(quantize = None)"
   ]
  },
  {
   "cell_type": "code",
   "execution_count": null,
   "metadata": {},
   "outputs": [],
   "source": [
    "trainer.calcRecall()"
   ]
  },
  {
   "cell_type": "code",
   "execution_count": null,
   "metadata": {},
   "outputs": [],
   "source": [
    "print(len(trainer.dataset.getDataset()) )\n",
    "print(trainer.dataset.getDataset()[0].size)\n",
    "\n",
    "total = len(trainer.dataset.getDataset()) * trainer.dataset.getDataset()[0].size\n",
    "\n"
   ]
  },
  {
   "attachments": {},
   "cell_type": "markdown",
   "metadata": {},
   "source": [
    "### Visualise Latent Space"
   ]
  },
  {
   "cell_type": "code",
   "execution_count": null,
   "metadata": {},
   "outputs": [],
   "source": [
    "trainer.plotLatentSpace()"
   ]
  },
  {
   "cell_type": "code",
   "execution_count": null,
   "metadata": {},
   "outputs": [],
   "source": [
    "trainer.plotInputOutputSequence(1, threshold=0.5)"
   ]
  },
  {
   "cell_type": "code",
   "execution_count": null,
   "metadata": {},
   "outputs": [],
   "source": [
    "trainer.plotOutputValueDistribution()"
   ]
  }
 ],
 "metadata": {
  "kernelspec": {
   "display_name": "Python 3.9.13 64-bit",
   "language": "python",
   "name": "python3"
  },
  "language_info": {
   "codemirror_mode": {
    "name": "ipython",
    "version": 3
   },
   "file_extension": ".py",
   "mimetype": "text/x-python",
   "name": "python",
   "nbconvert_exporter": "python",
   "pygments_lexer": "ipython3",
   "version": "3.11.3"
  },
  "vscode": {
   "interpreter": {
    "hash": "aee8b7b246df8f9039afb4144a1f6fd8d2ca17a180786b69acc140d282b71a49"
   }
  }
 },
 "nbformat": 4,
 "nbformat_minor": 2
}
